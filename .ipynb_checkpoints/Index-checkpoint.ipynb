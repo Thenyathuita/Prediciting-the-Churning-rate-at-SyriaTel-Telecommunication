{
 "cells": [
  {
   "cell_type": "markdown",
   "metadata": {},
   "source": [
    "## Final Project Submission\n",
    "\n",
    "* Student(s) name: Thenya Thuita\n",
    "* Student(s) pace: Part Time-04B \n",
    "* Scheduled project review date/time: 30th October - 4th November 2023\n",
    "* Instructor name: Faith Rotich"
   ]
  },
  {
   "cell_type": "markdown",
   "metadata": {},
   "source": [
    "# 1. BUSINESS UNDERSTANDING"
   ]
  },
  {
   "cell_type": "markdown",
   "metadata": {},
   "source": [
    "### Problem Statement"
   ]
  },
  {
   "cell_type": "markdown",
   "metadata": {},
   "source": [
    "Syriatel Telecommunications company is a Syria Based tele-company that is facing a problem of losing customers, this action is known as churning.The company is conscerned by this and would like to know if the rate of churning would increase on the future.Not only does this project help them know that but also know how to better their relationship with their users to maintain a high rate of retention and even a high attraction of new clients."
   ]
  },
  {
   "cell_type": "markdown",
   "metadata": {},
   "source": [
    "### Objectives"
   ]
  },
  {
   "cell_type": "markdown",
   "metadata": {},
   "source": [
    " 1. Find out why customers are churning.\n",
    " 2. Develop a model that will accurately predict future rate of churning.\n",
    " 3. Find a probable solution to reduce churning."
   ]
  },
  {
   "cell_type": "markdown",
   "metadata": {},
   "source": [
    "### Success Metric"
   ]
  },
  {
   "cell_type": "markdown",
   "metadata": {},
   "source": [
    "1. Develop a roburts prediciton model with a recall score of  0.7 - .80\n",
    "2. Be able to identify features that significantly contribute to churning.\n",
    "3. Provide possible solutions to the telecom company that will help reduce churning."
   ]
  },
  {
   "cell_type": "markdown",
   "metadata": {},
   "source": [
    "# 2. DATA UNDERSTANDING"
   ]
  },
  {
   "cell_type": "markdown",
   "metadata": {},
   "source": [
    "Here's a summary of the columns:\n",
    "\n",
    "* `state`: The state of the customer.\n",
    "* `account length`: The length of the account in days or months.\n",
    "* `area code`: The area code of the customer's phone number.\n",
    "* `phone number`: The phone number of the customer.\n",
    "* `international plan`: Whether the customer has an international plan or not.\n",
    "* `voice mail plan`: Whether the customer has a voicemail plan or not.\n",
    "* `number vmail messages`: The number of voicemail messages the customer has.\n",
    "* `total day minutes`: Total minutes of day calls.\n",
    "* `total day calls`: Total number of day calls.\n",
    "* `total day charge`: Total charge for the day calls.\n",
    "* `total eve minutes`: Total minutes of evening calls.\n",
    "* `total eve calls`: Total number of evening calls.\n",
    "* `total eve charge`: Total charge for the evening calls.\n",
    "* `total night minutes`: Total minutes of night calls.\n",
    "* `total night calls`: Total number of night calls.\n",
    "* `total night charge`: Total charge for the night calls.\n",
    "* `total intl minutes`: Total minutes of international calls.\n",
    "* `total intl calls`: Total number of international calls.\n",
    "* `total intl charge`: Total charge for the international calls.\n",
    "* `customer service calls`: Number of times the customer called customer service.\n",
    "* `churn`: Whether the customer churned or not (True/False)."
   ]
  },
  {
   "cell_type": "code",
   "execution_count": 1,
   "metadata": {},
   "outputs": [],
   "source": [
    "# Importing necessary modules and packages\n",
    "\n",
    "#for data analysis and manipulation\n",
    "import pandas as pd\n",
    "import numpy as np\n",
    "\n",
    "#For plotting\n",
    "import matplotlib.pyplot as plt\n",
    "import seaborn as sns\n",
    "import plotly.express as px\n",
    "\n",
    "# Set visualization style\n",
    "sns.set_style(\"darkgrid\")\n",
    "\n",
    "# Display plots in the notebook\n",
    "%matplotlib inline\n",
    "\n",
    "#Modelling and supervised learning\n",
    "from sklearn.preprocessing import MinMaxScaler\n",
    "from sklearn.model_selection import train_test_split, cross_val_score\n",
    "from sklearn.metrics import accuracy_score, f1_score, recall_score, precision_score, roc_curve, roc_auc_score, classification_report, confusion_matrix\n",
    "from sklearn.linear_model import LogisticRegression\n",
    "from sklearn.ensemble import RandomForestClassifier \n",
    "from sklearn.tree import DecisionTreeClassifier\n",
    "from sklearn import tree\n",
    "from sklearn.datasets import make_classification\n",
    "from imblearn.over_sampling import SMOTE, SMOTENC\n",
    "\n",
    "#Model tuning\n",
    "from sklearn.model_selection import GridSearchCV\n",
    "from sklearn.ensemble import RandomForestClassifier\n",
    "\n",
    "\n",
    "# Filter warnings\n",
    "import warnings\n",
    "warnings.filterwarnings(\"ignore\")"
   ]
  },
  {
   "cell_type": "code",
   "execution_count": 2,
   "metadata": {},
   "outputs": [
    {
     "data": {
      "text/html": [
       "<div>\n",
       "<style scoped>\n",
       "    .dataframe tbody tr th:only-of-type {\n",
       "        vertical-align: middle;\n",
       "    }\n",
       "\n",
       "    .dataframe tbody tr th {\n",
       "        vertical-align: top;\n",
       "    }\n",
       "\n",
       "    .dataframe thead th {\n",
       "        text-align: right;\n",
       "    }\n",
       "</style>\n",
       "<table border=\"1\" class=\"dataframe\">\n",
       "  <thead>\n",
       "    <tr style=\"text-align: right;\">\n",
       "      <th></th>\n",
       "      <th>state</th>\n",
       "      <th>account length</th>\n",
       "      <th>area code</th>\n",
       "      <th>phone number</th>\n",
       "      <th>international plan</th>\n",
       "      <th>voice mail plan</th>\n",
       "      <th>number vmail messages</th>\n",
       "      <th>total day minutes</th>\n",
       "      <th>total day calls</th>\n",
       "      <th>total day charge</th>\n",
       "      <th>...</th>\n",
       "      <th>total eve calls</th>\n",
       "      <th>total eve charge</th>\n",
       "      <th>total night minutes</th>\n",
       "      <th>total night calls</th>\n",
       "      <th>total night charge</th>\n",
       "      <th>total intl minutes</th>\n",
       "      <th>total intl calls</th>\n",
       "      <th>total intl charge</th>\n",
       "      <th>customer service calls</th>\n",
       "      <th>churn</th>\n",
       "    </tr>\n",
       "  </thead>\n",
       "  <tbody>\n",
       "    <tr>\n",
       "      <th>0</th>\n",
       "      <td>KS</td>\n",
       "      <td>128</td>\n",
       "      <td>415</td>\n",
       "      <td>382-4657</td>\n",
       "      <td>no</td>\n",
       "      <td>yes</td>\n",
       "      <td>25</td>\n",
       "      <td>265.1</td>\n",
       "      <td>110</td>\n",
       "      <td>45.07</td>\n",
       "      <td>...</td>\n",
       "      <td>99</td>\n",
       "      <td>16.78</td>\n",
       "      <td>244.7</td>\n",
       "      <td>91</td>\n",
       "      <td>11.01</td>\n",
       "      <td>10.0</td>\n",
       "      <td>3</td>\n",
       "      <td>2.70</td>\n",
       "      <td>1</td>\n",
       "      <td>False</td>\n",
       "    </tr>\n",
       "    <tr>\n",
       "      <th>1</th>\n",
       "      <td>OH</td>\n",
       "      <td>107</td>\n",
       "      <td>415</td>\n",
       "      <td>371-7191</td>\n",
       "      <td>no</td>\n",
       "      <td>yes</td>\n",
       "      <td>26</td>\n",
       "      <td>161.6</td>\n",
       "      <td>123</td>\n",
       "      <td>27.47</td>\n",
       "      <td>...</td>\n",
       "      <td>103</td>\n",
       "      <td>16.62</td>\n",
       "      <td>254.4</td>\n",
       "      <td>103</td>\n",
       "      <td>11.45</td>\n",
       "      <td>13.7</td>\n",
       "      <td>3</td>\n",
       "      <td>3.70</td>\n",
       "      <td>1</td>\n",
       "      <td>False</td>\n",
       "    </tr>\n",
       "    <tr>\n",
       "      <th>2</th>\n",
       "      <td>NJ</td>\n",
       "      <td>137</td>\n",
       "      <td>415</td>\n",
       "      <td>358-1921</td>\n",
       "      <td>no</td>\n",
       "      <td>no</td>\n",
       "      <td>0</td>\n",
       "      <td>243.4</td>\n",
       "      <td>114</td>\n",
       "      <td>41.38</td>\n",
       "      <td>...</td>\n",
       "      <td>110</td>\n",
       "      <td>10.30</td>\n",
       "      <td>162.6</td>\n",
       "      <td>104</td>\n",
       "      <td>7.32</td>\n",
       "      <td>12.2</td>\n",
       "      <td>5</td>\n",
       "      <td>3.29</td>\n",
       "      <td>0</td>\n",
       "      <td>False</td>\n",
       "    </tr>\n",
       "    <tr>\n",
       "      <th>3</th>\n",
       "      <td>OH</td>\n",
       "      <td>84</td>\n",
       "      <td>408</td>\n",
       "      <td>375-9999</td>\n",
       "      <td>yes</td>\n",
       "      <td>no</td>\n",
       "      <td>0</td>\n",
       "      <td>299.4</td>\n",
       "      <td>71</td>\n",
       "      <td>50.90</td>\n",
       "      <td>...</td>\n",
       "      <td>88</td>\n",
       "      <td>5.26</td>\n",
       "      <td>196.9</td>\n",
       "      <td>89</td>\n",
       "      <td>8.86</td>\n",
       "      <td>6.6</td>\n",
       "      <td>7</td>\n",
       "      <td>1.78</td>\n",
       "      <td>2</td>\n",
       "      <td>False</td>\n",
       "    </tr>\n",
       "    <tr>\n",
       "      <th>4</th>\n",
       "      <td>OK</td>\n",
       "      <td>75</td>\n",
       "      <td>415</td>\n",
       "      <td>330-6626</td>\n",
       "      <td>yes</td>\n",
       "      <td>no</td>\n",
       "      <td>0</td>\n",
       "      <td>166.7</td>\n",
       "      <td>113</td>\n",
       "      <td>28.34</td>\n",
       "      <td>...</td>\n",
       "      <td>122</td>\n",
       "      <td>12.61</td>\n",
       "      <td>186.9</td>\n",
       "      <td>121</td>\n",
       "      <td>8.41</td>\n",
       "      <td>10.1</td>\n",
       "      <td>3</td>\n",
       "      <td>2.73</td>\n",
       "      <td>3</td>\n",
       "      <td>False</td>\n",
       "    </tr>\n",
       "  </tbody>\n",
       "</table>\n",
       "<p>5 rows × 21 columns</p>\n",
       "</div>"
      ],
      "text/plain": [
       "  state  account length  area code phone number international plan  \\\n",
       "0    KS             128        415     382-4657                 no   \n",
       "1    OH             107        415     371-7191                 no   \n",
       "2    NJ             137        415     358-1921                 no   \n",
       "3    OH              84        408     375-9999                yes   \n",
       "4    OK              75        415     330-6626                yes   \n",
       "\n",
       "  voice mail plan  number vmail messages  total day minutes  total day calls  \\\n",
       "0             yes                     25              265.1              110   \n",
       "1             yes                     26              161.6              123   \n",
       "2              no                      0              243.4              114   \n",
       "3              no                      0              299.4               71   \n",
       "4              no                      0              166.7              113   \n",
       "\n",
       "   total day charge  ...  total eve calls  total eve charge  \\\n",
       "0             45.07  ...               99             16.78   \n",
       "1             27.47  ...              103             16.62   \n",
       "2             41.38  ...              110             10.30   \n",
       "3             50.90  ...               88              5.26   \n",
       "4             28.34  ...              122             12.61   \n",
       "\n",
       "   total night minutes  total night calls  total night charge  \\\n",
       "0                244.7                 91               11.01   \n",
       "1                254.4                103               11.45   \n",
       "2                162.6                104                7.32   \n",
       "3                196.9                 89                8.86   \n",
       "4                186.9                121                8.41   \n",
       "\n",
       "   total intl minutes  total intl calls  total intl charge  \\\n",
       "0                10.0                 3               2.70   \n",
       "1                13.7                 3               3.70   \n",
       "2                12.2                 5               3.29   \n",
       "3                 6.6                 7               1.78   \n",
       "4                10.1                 3               2.73   \n",
       "\n",
       "   customer service calls  churn  \n",
       "0                       1  False  \n",
       "1                       1  False  \n",
       "2                       0  False  \n",
       "3                       2  False  \n",
       "4                       3  False  \n",
       "\n",
       "[5 rows x 21 columns]"
      ]
     },
     "execution_count": 2,
     "metadata": {},
     "output_type": "execute_result"
    }
   ],
   "source": [
    "#loading data\n",
    "data = pd.read_csv(\"telecom.csv\")\n",
    "data.head()"
   ]
  },
  {
   "cell_type": "code",
   "execution_count": 3,
   "metadata": {},
   "outputs": [
    {
     "name": "stdout",
     "output_type": "stream",
     "text": [
      "<class 'pandas.core.frame.DataFrame'>\n",
      "RangeIndex: 3333 entries, 0 to 3332\n",
      "Data columns (total 21 columns):\n",
      " #   Column                  Non-Null Count  Dtype  \n",
      "---  ------                  --------------  -----  \n",
      " 0   state                   3333 non-null   object \n",
      " 1   account length          3333 non-null   int64  \n",
      " 2   area code               3333 non-null   int64  \n",
      " 3   phone number            3333 non-null   object \n",
      " 4   international plan      3333 non-null   object \n",
      " 5   voice mail plan         3333 non-null   object \n",
      " 6   number vmail messages   3333 non-null   int64  \n",
      " 7   total day minutes       3333 non-null   float64\n",
      " 8   total day calls         3333 non-null   int64  \n",
      " 9   total day charge        3333 non-null   float64\n",
      " 10  total eve minutes       3333 non-null   float64\n",
      " 11  total eve calls         3333 non-null   int64  \n",
      " 12  total eve charge        3333 non-null   float64\n",
      " 13  total night minutes     3333 non-null   float64\n",
      " 14  total night calls       3333 non-null   int64  \n",
      " 15  total night charge      3333 non-null   float64\n",
      " 16  total intl minutes      3333 non-null   float64\n",
      " 17  total intl calls        3333 non-null   int64  \n",
      " 18  total intl charge       3333 non-null   float64\n",
      " 19  customer service calls  3333 non-null   int64  \n",
      " 20  churn                   3333 non-null   bool   \n",
      "dtypes: bool(1), float64(8), int64(8), object(4)\n",
      "memory usage: 524.2+ KB\n"
     ]
    }
   ],
   "source": [
    "#General stats of the data\n",
    "data.info()"
   ]
  },
  {
   "cell_type": "markdown",
   "metadata": {},
   "source": [
    "From the above result we can see we have one Boolean column = churning, four object data type column = state, international plan, voice mail plan and phone number and the rest as interger types of data either int64 or float64"
   ]
  },
  {
   "cell_type": "code",
   "execution_count": 4,
   "metadata": {},
   "outputs": [
    {
     "data": {
      "text/html": [
       "<div>\n",
       "<style scoped>\n",
       "    .dataframe tbody tr th:only-of-type {\n",
       "        vertical-align: middle;\n",
       "    }\n",
       "\n",
       "    .dataframe tbody tr th {\n",
       "        vertical-align: top;\n",
       "    }\n",
       "\n",
       "    .dataframe thead th {\n",
       "        text-align: right;\n",
       "    }\n",
       "</style>\n",
       "<table border=\"1\" class=\"dataframe\">\n",
       "  <thead>\n",
       "    <tr style=\"text-align: right;\">\n",
       "      <th></th>\n",
       "      <th>account length</th>\n",
       "      <th>area code</th>\n",
       "      <th>number vmail messages</th>\n",
       "      <th>total day minutes</th>\n",
       "      <th>total day calls</th>\n",
       "      <th>total day charge</th>\n",
       "      <th>total eve minutes</th>\n",
       "      <th>total eve calls</th>\n",
       "      <th>total eve charge</th>\n",
       "      <th>total night minutes</th>\n",
       "      <th>total night calls</th>\n",
       "      <th>total night charge</th>\n",
       "      <th>total intl minutes</th>\n",
       "      <th>total intl calls</th>\n",
       "      <th>total intl charge</th>\n",
       "      <th>customer service calls</th>\n",
       "    </tr>\n",
       "  </thead>\n",
       "  <tbody>\n",
       "    <tr>\n",
       "      <th>count</th>\n",
       "      <td>3333.000000</td>\n",
       "      <td>3333.000000</td>\n",
       "      <td>3333.000000</td>\n",
       "      <td>3333.000000</td>\n",
       "      <td>3333.000000</td>\n",
       "      <td>3333.000000</td>\n",
       "      <td>3333.000000</td>\n",
       "      <td>3333.000000</td>\n",
       "      <td>3333.000000</td>\n",
       "      <td>3333.000000</td>\n",
       "      <td>3333.000000</td>\n",
       "      <td>3333.000000</td>\n",
       "      <td>3333.000000</td>\n",
       "      <td>3333.000000</td>\n",
       "      <td>3333.000000</td>\n",
       "      <td>3333.000000</td>\n",
       "    </tr>\n",
       "    <tr>\n",
       "      <th>mean</th>\n",
       "      <td>101.064806</td>\n",
       "      <td>437.182418</td>\n",
       "      <td>8.099010</td>\n",
       "      <td>179.775098</td>\n",
       "      <td>100.435644</td>\n",
       "      <td>30.562307</td>\n",
       "      <td>200.980348</td>\n",
       "      <td>100.114311</td>\n",
       "      <td>17.083540</td>\n",
       "      <td>200.872037</td>\n",
       "      <td>100.107711</td>\n",
       "      <td>9.039325</td>\n",
       "      <td>10.237294</td>\n",
       "      <td>4.479448</td>\n",
       "      <td>2.764581</td>\n",
       "      <td>1.562856</td>\n",
       "    </tr>\n",
       "    <tr>\n",
       "      <th>std</th>\n",
       "      <td>39.822106</td>\n",
       "      <td>42.371290</td>\n",
       "      <td>13.688365</td>\n",
       "      <td>54.467389</td>\n",
       "      <td>20.069084</td>\n",
       "      <td>9.259435</td>\n",
       "      <td>50.713844</td>\n",
       "      <td>19.922625</td>\n",
       "      <td>4.310668</td>\n",
       "      <td>50.573847</td>\n",
       "      <td>19.568609</td>\n",
       "      <td>2.275873</td>\n",
       "      <td>2.791840</td>\n",
       "      <td>2.461214</td>\n",
       "      <td>0.753773</td>\n",
       "      <td>1.315491</td>\n",
       "    </tr>\n",
       "    <tr>\n",
       "      <th>min</th>\n",
       "      <td>1.000000</td>\n",
       "      <td>408.000000</td>\n",
       "      <td>0.000000</td>\n",
       "      <td>0.000000</td>\n",
       "      <td>0.000000</td>\n",
       "      <td>0.000000</td>\n",
       "      <td>0.000000</td>\n",
       "      <td>0.000000</td>\n",
       "      <td>0.000000</td>\n",
       "      <td>23.200000</td>\n",
       "      <td>33.000000</td>\n",
       "      <td>1.040000</td>\n",
       "      <td>0.000000</td>\n",
       "      <td>0.000000</td>\n",
       "      <td>0.000000</td>\n",
       "      <td>0.000000</td>\n",
       "    </tr>\n",
       "    <tr>\n",
       "      <th>25%</th>\n",
       "      <td>74.000000</td>\n",
       "      <td>408.000000</td>\n",
       "      <td>0.000000</td>\n",
       "      <td>143.700000</td>\n",
       "      <td>87.000000</td>\n",
       "      <td>24.430000</td>\n",
       "      <td>166.600000</td>\n",
       "      <td>87.000000</td>\n",
       "      <td>14.160000</td>\n",
       "      <td>167.000000</td>\n",
       "      <td>87.000000</td>\n",
       "      <td>7.520000</td>\n",
       "      <td>8.500000</td>\n",
       "      <td>3.000000</td>\n",
       "      <td>2.300000</td>\n",
       "      <td>1.000000</td>\n",
       "    </tr>\n",
       "    <tr>\n",
       "      <th>50%</th>\n",
       "      <td>101.000000</td>\n",
       "      <td>415.000000</td>\n",
       "      <td>0.000000</td>\n",
       "      <td>179.400000</td>\n",
       "      <td>101.000000</td>\n",
       "      <td>30.500000</td>\n",
       "      <td>201.400000</td>\n",
       "      <td>100.000000</td>\n",
       "      <td>17.120000</td>\n",
       "      <td>201.200000</td>\n",
       "      <td>100.000000</td>\n",
       "      <td>9.050000</td>\n",
       "      <td>10.300000</td>\n",
       "      <td>4.000000</td>\n",
       "      <td>2.780000</td>\n",
       "      <td>1.000000</td>\n",
       "    </tr>\n",
       "    <tr>\n",
       "      <th>75%</th>\n",
       "      <td>127.000000</td>\n",
       "      <td>510.000000</td>\n",
       "      <td>20.000000</td>\n",
       "      <td>216.400000</td>\n",
       "      <td>114.000000</td>\n",
       "      <td>36.790000</td>\n",
       "      <td>235.300000</td>\n",
       "      <td>114.000000</td>\n",
       "      <td>20.000000</td>\n",
       "      <td>235.300000</td>\n",
       "      <td>113.000000</td>\n",
       "      <td>10.590000</td>\n",
       "      <td>12.100000</td>\n",
       "      <td>6.000000</td>\n",
       "      <td>3.270000</td>\n",
       "      <td>2.000000</td>\n",
       "    </tr>\n",
       "    <tr>\n",
       "      <th>max</th>\n",
       "      <td>243.000000</td>\n",
       "      <td>510.000000</td>\n",
       "      <td>51.000000</td>\n",
       "      <td>350.800000</td>\n",
       "      <td>165.000000</td>\n",
       "      <td>59.640000</td>\n",
       "      <td>363.700000</td>\n",
       "      <td>170.000000</td>\n",
       "      <td>30.910000</td>\n",
       "      <td>395.000000</td>\n",
       "      <td>175.000000</td>\n",
       "      <td>17.770000</td>\n",
       "      <td>20.000000</td>\n",
       "      <td>20.000000</td>\n",
       "      <td>5.400000</td>\n",
       "      <td>9.000000</td>\n",
       "    </tr>\n",
       "  </tbody>\n",
       "</table>\n",
       "</div>"
      ],
      "text/plain": [
       "       account length    area code  number vmail messages  total day minutes  \\\n",
       "count     3333.000000  3333.000000            3333.000000        3333.000000   \n",
       "mean       101.064806   437.182418               8.099010         179.775098   \n",
       "std         39.822106    42.371290              13.688365          54.467389   \n",
       "min          1.000000   408.000000               0.000000           0.000000   \n",
       "25%         74.000000   408.000000               0.000000         143.700000   \n",
       "50%        101.000000   415.000000               0.000000         179.400000   \n",
       "75%        127.000000   510.000000              20.000000         216.400000   \n",
       "max        243.000000   510.000000              51.000000         350.800000   \n",
       "\n",
       "       total day calls  total day charge  total eve minutes  total eve calls  \\\n",
       "count      3333.000000       3333.000000        3333.000000      3333.000000   \n",
       "mean        100.435644         30.562307         200.980348       100.114311   \n",
       "std          20.069084          9.259435          50.713844        19.922625   \n",
       "min           0.000000          0.000000           0.000000         0.000000   \n",
       "25%          87.000000         24.430000         166.600000        87.000000   \n",
       "50%         101.000000         30.500000         201.400000       100.000000   \n",
       "75%         114.000000         36.790000         235.300000       114.000000   \n",
       "max         165.000000         59.640000         363.700000       170.000000   \n",
       "\n",
       "       total eve charge  total night minutes  total night calls  \\\n",
       "count       3333.000000          3333.000000        3333.000000   \n",
       "mean          17.083540           200.872037         100.107711   \n",
       "std            4.310668            50.573847          19.568609   \n",
       "min            0.000000            23.200000          33.000000   \n",
       "25%           14.160000           167.000000          87.000000   \n",
       "50%           17.120000           201.200000         100.000000   \n",
       "75%           20.000000           235.300000         113.000000   \n",
       "max           30.910000           395.000000         175.000000   \n",
       "\n",
       "       total night charge  total intl minutes  total intl calls  \\\n",
       "count         3333.000000         3333.000000       3333.000000   \n",
       "mean             9.039325           10.237294          4.479448   \n",
       "std              2.275873            2.791840          2.461214   \n",
       "min              1.040000            0.000000          0.000000   \n",
       "25%              7.520000            8.500000          3.000000   \n",
       "50%              9.050000           10.300000          4.000000   \n",
       "75%             10.590000           12.100000          6.000000   \n",
       "max             17.770000           20.000000         20.000000   \n",
       "\n",
       "       total intl charge  customer service calls  \n",
       "count        3333.000000             3333.000000  \n",
       "mean            2.764581                1.562856  \n",
       "std             0.753773                1.315491  \n",
       "min             0.000000                0.000000  \n",
       "25%             2.300000                1.000000  \n",
       "50%             2.780000                1.000000  \n",
       "75%             3.270000                2.000000  \n",
       "max             5.400000                9.000000  "
      ]
     },
     "execution_count": 4,
     "metadata": {},
     "output_type": "execute_result"
    }
   ],
   "source": [
    "data.describe()"
   ]
  },
  {
   "cell_type": "markdown",
   "metadata": {},
   "source": [
    "# 3. DATA PREPARATION"
   ]
  },
  {
   "cell_type": "markdown",
   "metadata": {},
   "source": [
    "### 3.1  Data preprocessing"
   ]
  },
  {
   "cell_type": "code",
   "execution_count": 5,
   "metadata": {},
   "outputs": [
    {
     "name": "stdout",
     "output_type": "stream",
     "text": [
      "Duplicated values are: 0\n",
      "Missing values are:\n",
      " state                     0\n",
      "account length            0\n",
      "area code                 0\n",
      "phone number              0\n",
      "international plan        0\n",
      "voice mail plan           0\n",
      "number vmail messages     0\n",
      "total day minutes         0\n",
      "total day calls           0\n",
      "total day charge          0\n",
      "total eve minutes         0\n",
      "total eve calls           0\n",
      "total eve charge          0\n",
      "total night minutes       0\n",
      "total night calls         0\n",
      "total night charge        0\n",
      "total intl minutes        0\n",
      "total intl calls          0\n",
      "total intl charge         0\n",
      "customer service calls    0\n",
      "churn                     0\n",
      "dtype: int64\n"
     ]
    }
   ],
   "source": [
    "# finding duplicates and missing values\n",
    "duplicated = data.duplicated().sum()\n",
    "\n",
    "missing_values = data.isna().sum()\n",
    "\n",
    "#Display the total number of duplicate values and missing_values\n",
    "print(\"Duplicated values are:\", duplicated)\n",
    "print(\"Missing values are:\\n\", missing_values)"
   ]
  },
  {
   "cell_type": "code",
   "execution_count": 6,
   "metadata": {},
   "outputs": [],
   "source": [
    "# Converting string-based categorical values to integer-based categorical representations\n",
    "intl_plan = {'yes': 1, 'no': 0}\n",
    "vm_plan = {'yes': 1, 'no': 0}\n",
    "churn_status = {True: 1, False: 0}\n",
    "\n",
    "#Display the replacement of each column\n",
    "data['international plan'].replace(intl_plan, inplace=True)\n",
    "data['voice mail plan'].replace(vm_plan, inplace=True)\n",
    "data['churn'].replace(churn_status, inplace=True)\n"
   ]
  },
  {
   "cell_type": "code",
   "execution_count": 7,
   "metadata": {},
   "outputs": [
    {
     "data": {
      "text/html": [
       "<div>\n",
       "<style scoped>\n",
       "    .dataframe tbody tr th:only-of-type {\n",
       "        vertical-align: middle;\n",
       "    }\n",
       "\n",
       "    .dataframe tbody tr th {\n",
       "        vertical-align: top;\n",
       "    }\n",
       "\n",
       "    .dataframe thead th {\n",
       "        text-align: right;\n",
       "    }\n",
       "</style>\n",
       "<table border=\"1\" class=\"dataframe\">\n",
       "  <thead>\n",
       "    <tr style=\"text-align: right;\">\n",
       "      <th></th>\n",
       "      <th>state</th>\n",
       "      <th>account length</th>\n",
       "      <th>area code</th>\n",
       "      <th>phone number</th>\n",
       "      <th>international plan</th>\n",
       "      <th>voice mail plan</th>\n",
       "      <th>number vmail messages</th>\n",
       "      <th>total day minutes</th>\n",
       "      <th>total day calls</th>\n",
       "      <th>total day charge</th>\n",
       "      <th>...</th>\n",
       "      <th>total eve calls</th>\n",
       "      <th>total eve charge</th>\n",
       "      <th>total night minutes</th>\n",
       "      <th>total night calls</th>\n",
       "      <th>total night charge</th>\n",
       "      <th>total intl minutes</th>\n",
       "      <th>total intl calls</th>\n",
       "      <th>total intl charge</th>\n",
       "      <th>customer service calls</th>\n",
       "      <th>churn</th>\n",
       "    </tr>\n",
       "  </thead>\n",
       "  <tbody>\n",
       "    <tr>\n",
       "      <th>1382</th>\n",
       "      <td>GA</td>\n",
       "      <td>125</td>\n",
       "      <td>415</td>\n",
       "      <td>380-6342</td>\n",
       "      <td>0</td>\n",
       "      <td>1</td>\n",
       "      <td>39</td>\n",
       "      <td>236.1</td>\n",
       "      <td>107</td>\n",
       "      <td>40.14</td>\n",
       "      <td>...</td>\n",
       "      <td>110</td>\n",
       "      <td>24.58</td>\n",
       "      <td>175.4</td>\n",
       "      <td>107</td>\n",
       "      <td>7.89</td>\n",
       "      <td>9.1</td>\n",
       "      <td>4</td>\n",
       "      <td>2.46</td>\n",
       "      <td>2</td>\n",
       "      <td>0</td>\n",
       "    </tr>\n",
       "    <tr>\n",
       "      <th>619</th>\n",
       "      <td>KS</td>\n",
       "      <td>110</td>\n",
       "      <td>415</td>\n",
       "      <td>383-1657</td>\n",
       "      <td>1</td>\n",
       "      <td>0</td>\n",
       "      <td>0</td>\n",
       "      <td>293.3</td>\n",
       "      <td>79</td>\n",
       "      <td>49.86</td>\n",
       "      <td>...</td>\n",
       "      <td>90</td>\n",
       "      <td>16.02</td>\n",
       "      <td>266.9</td>\n",
       "      <td>91</td>\n",
       "      <td>12.01</td>\n",
       "      <td>14.5</td>\n",
       "      <td>4</td>\n",
       "      <td>3.92</td>\n",
       "      <td>0</td>\n",
       "      <td>1</td>\n",
       "    </tr>\n",
       "    <tr>\n",
       "      <th>119</th>\n",
       "      <td>ID</td>\n",
       "      <td>97</td>\n",
       "      <td>408</td>\n",
       "      <td>328-3266</td>\n",
       "      <td>0</td>\n",
       "      <td>0</td>\n",
       "      <td>0</td>\n",
       "      <td>239.8</td>\n",
       "      <td>125</td>\n",
       "      <td>40.77</td>\n",
       "      <td>...</td>\n",
       "      <td>111</td>\n",
       "      <td>18.26</td>\n",
       "      <td>143.3</td>\n",
       "      <td>81</td>\n",
       "      <td>6.45</td>\n",
       "      <td>8.7</td>\n",
       "      <td>5</td>\n",
       "      <td>2.35</td>\n",
       "      <td>2</td>\n",
       "      <td>0</td>\n",
       "    </tr>\n",
       "    <tr>\n",
       "      <th>188</th>\n",
       "      <td>WY</td>\n",
       "      <td>164</td>\n",
       "      <td>510</td>\n",
       "      <td>373-4819</td>\n",
       "      <td>0</td>\n",
       "      <td>0</td>\n",
       "      <td>0</td>\n",
       "      <td>160.6</td>\n",
       "      <td>111</td>\n",
       "      <td>27.30</td>\n",
       "      <td>...</td>\n",
       "      <td>126</td>\n",
       "      <td>13.87</td>\n",
       "      <td>187.1</td>\n",
       "      <td>112</td>\n",
       "      <td>8.42</td>\n",
       "      <td>9.0</td>\n",
       "      <td>3</td>\n",
       "      <td>2.43</td>\n",
       "      <td>1</td>\n",
       "      <td>0</td>\n",
       "    </tr>\n",
       "    <tr>\n",
       "      <th>1984</th>\n",
       "      <td>TN</td>\n",
       "      <td>112</td>\n",
       "      <td>415</td>\n",
       "      <td>339-6477</td>\n",
       "      <td>0</td>\n",
       "      <td>0</td>\n",
       "      <td>0</td>\n",
       "      <td>272.5</td>\n",
       "      <td>119</td>\n",
       "      <td>46.33</td>\n",
       "      <td>...</td>\n",
       "      <td>94</td>\n",
       "      <td>19.22</td>\n",
       "      <td>159.1</td>\n",
       "      <td>94</td>\n",
       "      <td>7.16</td>\n",
       "      <td>16.4</td>\n",
       "      <td>5</td>\n",
       "      <td>4.43</td>\n",
       "      <td>3</td>\n",
       "      <td>1</td>\n",
       "    </tr>\n",
       "    <tr>\n",
       "      <th>2453</th>\n",
       "      <td>HI</td>\n",
       "      <td>134</td>\n",
       "      <td>415</td>\n",
       "      <td>342-9394</td>\n",
       "      <td>0</td>\n",
       "      <td>1</td>\n",
       "      <td>38</td>\n",
       "      <td>214.4</td>\n",
       "      <td>93</td>\n",
       "      <td>36.45</td>\n",
       "      <td>...</td>\n",
       "      <td>57</td>\n",
       "      <td>17.99</td>\n",
       "      <td>165.0</td>\n",
       "      <td>79</td>\n",
       "      <td>7.43</td>\n",
       "      <td>10.0</td>\n",
       "      <td>8</td>\n",
       "      <td>2.70</td>\n",
       "      <td>1</td>\n",
       "      <td>0</td>\n",
       "    </tr>\n",
       "    <tr>\n",
       "      <th>1623</th>\n",
       "      <td>ME</td>\n",
       "      <td>130</td>\n",
       "      <td>408</td>\n",
       "      <td>387-6031</td>\n",
       "      <td>0</td>\n",
       "      <td>0</td>\n",
       "      <td>0</td>\n",
       "      <td>176.3</td>\n",
       "      <td>140</td>\n",
       "      <td>29.97</td>\n",
       "      <td>...</td>\n",
       "      <td>104</td>\n",
       "      <td>17.09</td>\n",
       "      <td>161.9</td>\n",
       "      <td>123</td>\n",
       "      <td>7.29</td>\n",
       "      <td>11.3</td>\n",
       "      <td>5</td>\n",
       "      <td>3.05</td>\n",
       "      <td>1</td>\n",
       "      <td>0</td>\n",
       "    </tr>\n",
       "    <tr>\n",
       "      <th>1134</th>\n",
       "      <td>TN</td>\n",
       "      <td>105</td>\n",
       "      <td>408</td>\n",
       "      <td>353-8849</td>\n",
       "      <td>0</td>\n",
       "      <td>0</td>\n",
       "      <td>0</td>\n",
       "      <td>206.2</td>\n",
       "      <td>84</td>\n",
       "      <td>35.05</td>\n",
       "      <td>...</td>\n",
       "      <td>138</td>\n",
       "      <td>21.79</td>\n",
       "      <td>117.1</td>\n",
       "      <td>91</td>\n",
       "      <td>5.27</td>\n",
       "      <td>9.0</td>\n",
       "      <td>3</td>\n",
       "      <td>2.43</td>\n",
       "      <td>1</td>\n",
       "      <td>0</td>\n",
       "    </tr>\n",
       "    <tr>\n",
       "      <th>3190</th>\n",
       "      <td>ID</td>\n",
       "      <td>103</td>\n",
       "      <td>415</td>\n",
       "      <td>346-5992</td>\n",
       "      <td>0</td>\n",
       "      <td>0</td>\n",
       "      <td>0</td>\n",
       "      <td>174.7</td>\n",
       "      <td>151</td>\n",
       "      <td>29.70</td>\n",
       "      <td>...</td>\n",
       "      <td>56</td>\n",
       "      <td>12.58</td>\n",
       "      <td>168.2</td>\n",
       "      <td>109</td>\n",
       "      <td>7.57</td>\n",
       "      <td>15.8</td>\n",
       "      <td>3</td>\n",
       "      <td>4.27</td>\n",
       "      <td>6</td>\n",
       "      <td>1</td>\n",
       "    </tr>\n",
       "    <tr>\n",
       "      <th>210</th>\n",
       "      <td>LA</td>\n",
       "      <td>99</td>\n",
       "      <td>415</td>\n",
       "      <td>411-2284</td>\n",
       "      <td>0</td>\n",
       "      <td>0</td>\n",
       "      <td>0</td>\n",
       "      <td>241.1</td>\n",
       "      <td>72</td>\n",
       "      <td>40.99</td>\n",
       "      <td>...</td>\n",
       "      <td>98</td>\n",
       "      <td>13.23</td>\n",
       "      <td>188.2</td>\n",
       "      <td>109</td>\n",
       "      <td>8.47</td>\n",
       "      <td>11.6</td>\n",
       "      <td>10</td>\n",
       "      <td>3.13</td>\n",
       "      <td>1</td>\n",
       "      <td>0</td>\n",
       "    </tr>\n",
       "    <tr>\n",
       "      <th>2190</th>\n",
       "      <td>NC</td>\n",
       "      <td>88</td>\n",
       "      <td>408</td>\n",
       "      <td>414-4037</td>\n",
       "      <td>0</td>\n",
       "      <td>1</td>\n",
       "      <td>27</td>\n",
       "      <td>93.4</td>\n",
       "      <td>106</td>\n",
       "      <td>15.88</td>\n",
       "      <td>...</td>\n",
       "      <td>92</td>\n",
       "      <td>21.42</td>\n",
       "      <td>189.0</td>\n",
       "      <td>104</td>\n",
       "      <td>8.50</td>\n",
       "      <td>10.9</td>\n",
       "      <td>1</td>\n",
       "      <td>2.94</td>\n",
       "      <td>1</td>\n",
       "      <td>0</td>\n",
       "    </tr>\n",
       "    <tr>\n",
       "      <th>1264</th>\n",
       "      <td>TN</td>\n",
       "      <td>72</td>\n",
       "      <td>408</td>\n",
       "      <td>348-2009</td>\n",
       "      <td>0</td>\n",
       "      <td>0</td>\n",
       "      <td>0</td>\n",
       "      <td>147.0</td>\n",
       "      <td>79</td>\n",
       "      <td>24.99</td>\n",
       "      <td>...</td>\n",
       "      <td>103</td>\n",
       "      <td>13.80</td>\n",
       "      <td>162.9</td>\n",
       "      <td>80</td>\n",
       "      <td>7.33</td>\n",
       "      <td>10.5</td>\n",
       "      <td>4</td>\n",
       "      <td>2.84</td>\n",
       "      <td>1</td>\n",
       "      <td>0</td>\n",
       "    </tr>\n",
       "    <tr>\n",
       "      <th>1105</th>\n",
       "      <td>NJ</td>\n",
       "      <td>135</td>\n",
       "      <td>510</td>\n",
       "      <td>401-8735</td>\n",
       "      <td>0</td>\n",
       "      <td>1</td>\n",
       "      <td>28</td>\n",
       "      <td>201.4</td>\n",
       "      <td>100</td>\n",
       "      <td>34.24</td>\n",
       "      <td>...</td>\n",
       "      <td>117</td>\n",
       "      <td>20.95</td>\n",
       "      <td>154.8</td>\n",
       "      <td>131</td>\n",
       "      <td>6.97</td>\n",
       "      <td>12.9</td>\n",
       "      <td>4</td>\n",
       "      <td>3.48</td>\n",
       "      <td>2</td>\n",
       "      <td>1</td>\n",
       "    </tr>\n",
       "    <tr>\n",
       "      <th>732</th>\n",
       "      <td>IN</td>\n",
       "      <td>48</td>\n",
       "      <td>510</td>\n",
       "      <td>342-6696</td>\n",
       "      <td>0</td>\n",
       "      <td>0</td>\n",
       "      <td>0</td>\n",
       "      <td>300.4</td>\n",
       "      <td>94</td>\n",
       "      <td>51.07</td>\n",
       "      <td>...</td>\n",
       "      <td>103</td>\n",
       "      <td>11.32</td>\n",
       "      <td>197.4</td>\n",
       "      <td>94</td>\n",
       "      <td>8.88</td>\n",
       "      <td>7.2</td>\n",
       "      <td>5</td>\n",
       "      <td>1.94</td>\n",
       "      <td>2</td>\n",
       "      <td>0</td>\n",
       "    </tr>\n",
       "    <tr>\n",
       "      <th>3214</th>\n",
       "      <td>OK</td>\n",
       "      <td>149</td>\n",
       "      <td>510</td>\n",
       "      <td>365-9079</td>\n",
       "      <td>1</td>\n",
       "      <td>0</td>\n",
       "      <td>0</td>\n",
       "      <td>180.9</td>\n",
       "      <td>79</td>\n",
       "      <td>30.75</td>\n",
       "      <td>...</td>\n",
       "      <td>83</td>\n",
       "      <td>16.57</td>\n",
       "      <td>197.8</td>\n",
       "      <td>109</td>\n",
       "      <td>8.90</td>\n",
       "      <td>8.8</td>\n",
       "      <td>9</td>\n",
       "      <td>2.38</td>\n",
       "      <td>3</td>\n",
       "      <td>0</td>\n",
       "    </tr>\n",
       "  </tbody>\n",
       "</table>\n",
       "<p>15 rows × 21 columns</p>\n",
       "</div>"
      ],
      "text/plain": [
       "     state  account length  area code phone number  international plan  \\\n",
       "1382    GA             125        415     380-6342                   0   \n",
       "619     KS             110        415     383-1657                   1   \n",
       "119     ID              97        408     328-3266                   0   \n",
       "188     WY             164        510     373-4819                   0   \n",
       "1984    TN             112        415     339-6477                   0   \n",
       "2453    HI             134        415     342-9394                   0   \n",
       "1623    ME             130        408     387-6031                   0   \n",
       "1134    TN             105        408     353-8849                   0   \n",
       "3190    ID             103        415     346-5992                   0   \n",
       "210     LA              99        415     411-2284                   0   \n",
       "2190    NC              88        408     414-4037                   0   \n",
       "1264    TN              72        408     348-2009                   0   \n",
       "1105    NJ             135        510     401-8735                   0   \n",
       "732     IN              48        510     342-6696                   0   \n",
       "3214    OK             149        510     365-9079                   1   \n",
       "\n",
       "      voice mail plan  number vmail messages  total day minutes  \\\n",
       "1382                1                     39              236.1   \n",
       "619                 0                      0              293.3   \n",
       "119                 0                      0              239.8   \n",
       "188                 0                      0              160.6   \n",
       "1984                0                      0              272.5   \n",
       "2453                1                     38              214.4   \n",
       "1623                0                      0              176.3   \n",
       "1134                0                      0              206.2   \n",
       "3190                0                      0              174.7   \n",
       "210                 0                      0              241.1   \n",
       "2190                1                     27               93.4   \n",
       "1264                0                      0              147.0   \n",
       "1105                1                     28              201.4   \n",
       "732                 0                      0              300.4   \n",
       "3214                0                      0              180.9   \n",
       "\n",
       "      total day calls  total day charge  ...  total eve calls  \\\n",
       "1382              107             40.14  ...              110   \n",
       "619                79             49.86  ...               90   \n",
       "119               125             40.77  ...              111   \n",
       "188               111             27.30  ...              126   \n",
       "1984              119             46.33  ...               94   \n",
       "2453               93             36.45  ...               57   \n",
       "1623              140             29.97  ...              104   \n",
       "1134               84             35.05  ...              138   \n",
       "3190              151             29.70  ...               56   \n",
       "210                72             40.99  ...               98   \n",
       "2190              106             15.88  ...               92   \n",
       "1264               79             24.99  ...              103   \n",
       "1105              100             34.24  ...              117   \n",
       "732                94             51.07  ...              103   \n",
       "3214               79             30.75  ...               83   \n",
       "\n",
       "      total eve charge  total night minutes  total night calls  \\\n",
       "1382             24.58                175.4                107   \n",
       "619              16.02                266.9                 91   \n",
       "119              18.26                143.3                 81   \n",
       "188              13.87                187.1                112   \n",
       "1984             19.22                159.1                 94   \n",
       "2453             17.99                165.0                 79   \n",
       "1623             17.09                161.9                123   \n",
       "1134             21.79                117.1                 91   \n",
       "3190             12.58                168.2                109   \n",
       "210              13.23                188.2                109   \n",
       "2190             21.42                189.0                104   \n",
       "1264             13.80                162.9                 80   \n",
       "1105             20.95                154.8                131   \n",
       "732              11.32                197.4                 94   \n",
       "3214             16.57                197.8                109   \n",
       "\n",
       "      total night charge  total intl minutes  total intl calls  \\\n",
       "1382                7.89                 9.1                 4   \n",
       "619                12.01                14.5                 4   \n",
       "119                 6.45                 8.7                 5   \n",
       "188                 8.42                 9.0                 3   \n",
       "1984                7.16                16.4                 5   \n",
       "2453                7.43                10.0                 8   \n",
       "1623                7.29                11.3                 5   \n",
       "1134                5.27                 9.0                 3   \n",
       "3190                7.57                15.8                 3   \n",
       "210                 8.47                11.6                10   \n",
       "2190                8.50                10.9                 1   \n",
       "1264                7.33                10.5                 4   \n",
       "1105                6.97                12.9                 4   \n",
       "732                 8.88                 7.2                 5   \n",
       "3214                8.90                 8.8                 9   \n",
       "\n",
       "      total intl charge  customer service calls  churn  \n",
       "1382               2.46                       2      0  \n",
       "619                3.92                       0      1  \n",
       "119                2.35                       2      0  \n",
       "188                2.43                       1      0  \n",
       "1984               4.43                       3      1  \n",
       "2453               2.70                       1      0  \n",
       "1623               3.05                       1      0  \n",
       "1134               2.43                       1      0  \n",
       "3190               4.27                       6      1  \n",
       "210                3.13                       1      0  \n",
       "2190               2.94                       1      0  \n",
       "1264               2.84                       1      0  \n",
       "1105               3.48                       2      1  \n",
       "732                1.94                       2      0  \n",
       "3214               2.38                       3      0  \n",
       "\n",
       "[15 rows x 21 columns]"
      ]
     },
     "execution_count": 7,
     "metadata": {},
     "output_type": "execute_result"
    }
   ],
   "source": [
    "\n",
    "data.sample(15)"
   ]
  },
  {
   "cell_type": "code",
   "execution_count": 8,
   "metadata": {},
   "outputs": [],
   "source": [
    "#totals for minutes, charges and calls\n",
    "\n",
    "data['total_charges'] = round(data['total day charge'] + data['total eve charge'] + data['total night charge'] + data['total intl charge'])\n",
    "data['total_calls'] = round(data['total day calls'] + data['total eve calls'] + data['total night calls'] + data['total intl calls'])\n",
    "data['total_minutes'] = round(data['total day minutes'] + data['total eve minutes'] + data['total night minutes'] + data['total intl minutes'])\n"
   ]
  },
  {
   "cell_type": "code",
   "execution_count": 9,
   "metadata": {},
   "outputs": [
    {
     "name": "stdout",
     "output_type": "stream",
     "text": [
      "      total_charges  total_calls  total_minutes\n",
      "189            68.0          314          660.0\n",
      "497            66.0          289          657.0\n",
      "2319           78.0          317          715.0\n",
      "2303           32.0          275          399.0\n",
      "1471           61.0          291          619.0\n",
      "643            74.0          307          734.0\n",
      "1320           59.0          345          545.0\n",
      "221            57.0          291          596.0\n",
      "3112           49.0          262          492.0\n",
      "3272           83.0          355          761.0\n"
     ]
    }
   ],
   "source": [
    "print(data[['total_charges', 'total_calls','total_minutes']].sample(10))"
   ]
  },
  {
   "cell_type": "code",
   "execution_count": 10,
   "metadata": {},
   "outputs": [
    {
     "data": {
      "text/html": [
       "<div>\n",
       "<style scoped>\n",
       "    .dataframe tbody tr th:only-of-type {\n",
       "        vertical-align: middle;\n",
       "    }\n",
       "\n",
       "    .dataframe tbody tr th {\n",
       "        vertical-align: top;\n",
       "    }\n",
       "\n",
       "    .dataframe thead th {\n",
       "        text-align: right;\n",
       "    }\n",
       "</style>\n",
       "<table border=\"1\" class=\"dataframe\">\n",
       "  <thead>\n",
       "    <tr style=\"text-align: right;\">\n",
       "      <th></th>\n",
       "      <th>state</th>\n",
       "      <th>account length</th>\n",
       "      <th>area code</th>\n",
       "      <th>phone number</th>\n",
       "      <th>international plan</th>\n",
       "      <th>voice mail plan</th>\n",
       "      <th>number vmail messages</th>\n",
       "      <th>total day minutes</th>\n",
       "      <th>total day calls</th>\n",
       "      <th>total day charge</th>\n",
       "      <th>...</th>\n",
       "      <th>total night calls</th>\n",
       "      <th>total night charge</th>\n",
       "      <th>total intl minutes</th>\n",
       "      <th>total intl calls</th>\n",
       "      <th>total intl charge</th>\n",
       "      <th>customer service calls</th>\n",
       "      <th>churn</th>\n",
       "      <th>total_charges</th>\n",
       "      <th>total_calls</th>\n",
       "      <th>total_minutes</th>\n",
       "    </tr>\n",
       "  </thead>\n",
       "  <tbody>\n",
       "    <tr>\n",
       "      <th>1881</th>\n",
       "      <td>NE</td>\n",
       "      <td>76</td>\n",
       "      <td>415</td>\n",
       "      <td>334-6519</td>\n",
       "      <td>0</td>\n",
       "      <td>0</td>\n",
       "      <td>0</td>\n",
       "      <td>272.7</td>\n",
       "      <td>97</td>\n",
       "      <td>46.36</td>\n",
       "      <td>...</td>\n",
       "      <td>105</td>\n",
       "      <td>10.60</td>\n",
       "      <td>7.7</td>\n",
       "      <td>2</td>\n",
       "      <td>2.08</td>\n",
       "      <td>0</td>\n",
       "      <td>1</td>\n",
       "      <td>79.0</td>\n",
       "      <td>299</td>\n",
       "      <td>752.0</td>\n",
       "    </tr>\n",
       "    <tr>\n",
       "      <th>895</th>\n",
       "      <td>MD</td>\n",
       "      <td>106</td>\n",
       "      <td>415</td>\n",
       "      <td>343-2350</td>\n",
       "      <td>0</td>\n",
       "      <td>0</td>\n",
       "      <td>0</td>\n",
       "      <td>165.3</td>\n",
       "      <td>118</td>\n",
       "      <td>28.10</td>\n",
       "      <td>...</td>\n",
       "      <td>93</td>\n",
       "      <td>8.42</td>\n",
       "      <td>8.5</td>\n",
       "      <td>3</td>\n",
       "      <td>2.30</td>\n",
       "      <td>2</td>\n",
       "      <td>0</td>\n",
       "      <td>57.0</td>\n",
       "      <td>315</td>\n",
       "      <td>571.0</td>\n",
       "    </tr>\n",
       "    <tr>\n",
       "      <th>2244</th>\n",
       "      <td>KS</td>\n",
       "      <td>148</td>\n",
       "      <td>510</td>\n",
       "      <td>415-4051</td>\n",
       "      <td>0</td>\n",
       "      <td>0</td>\n",
       "      <td>0</td>\n",
       "      <td>239.3</td>\n",
       "      <td>84</td>\n",
       "      <td>40.68</td>\n",
       "      <td>...</td>\n",
       "      <td>104</td>\n",
       "      <td>10.47</td>\n",
       "      <td>10.9</td>\n",
       "      <td>3</td>\n",
       "      <td>2.94</td>\n",
       "      <td>1</td>\n",
       "      <td>0</td>\n",
       "      <td>71.0</td>\n",
       "      <td>276</td>\n",
       "      <td>678.0</td>\n",
       "    </tr>\n",
       "    <tr>\n",
       "      <th>3207</th>\n",
       "      <td>DC</td>\n",
       "      <td>93</td>\n",
       "      <td>408</td>\n",
       "      <td>345-1994</td>\n",
       "      <td>0</td>\n",
       "      <td>1</td>\n",
       "      <td>22</td>\n",
       "      <td>306.2</td>\n",
       "      <td>123</td>\n",
       "      <td>52.05</td>\n",
       "      <td>...</td>\n",
       "      <td>107</td>\n",
       "      <td>10.81</td>\n",
       "      <td>11.7</td>\n",
       "      <td>2</td>\n",
       "      <td>3.16</td>\n",
       "      <td>0</td>\n",
       "      <td>0</td>\n",
       "      <td>82.0</td>\n",
       "      <td>315</td>\n",
       "      <td>748.0</td>\n",
       "    </tr>\n",
       "    <tr>\n",
       "      <th>1471</th>\n",
       "      <td>OH</td>\n",
       "      <td>75</td>\n",
       "      <td>415</td>\n",
       "      <td>340-9803</td>\n",
       "      <td>0</td>\n",
       "      <td>0</td>\n",
       "      <td>0</td>\n",
       "      <td>150.6</td>\n",
       "      <td>99</td>\n",
       "      <td>25.60</td>\n",
       "      <td>...</td>\n",
       "      <td>104</td>\n",
       "      <td>7.14</td>\n",
       "      <td>8.1</td>\n",
       "      <td>5</td>\n",
       "      <td>2.19</td>\n",
       "      <td>0</td>\n",
       "      <td>0</td>\n",
       "      <td>61.0</td>\n",
       "      <td>291</td>\n",
       "      <td>619.0</td>\n",
       "    </tr>\n",
       "    <tr>\n",
       "      <th>1503</th>\n",
       "      <td>WV</td>\n",
       "      <td>57</td>\n",
       "      <td>415</td>\n",
       "      <td>419-6418</td>\n",
       "      <td>1</td>\n",
       "      <td>1</td>\n",
       "      <td>17</td>\n",
       "      <td>236.5</td>\n",
       "      <td>94</td>\n",
       "      <td>40.21</td>\n",
       "      <td>...</td>\n",
       "      <td>117</td>\n",
       "      <td>10.65</td>\n",
       "      <td>12.2</td>\n",
       "      <td>3</td>\n",
       "      <td>3.29</td>\n",
       "      <td>2</td>\n",
       "      <td>0</td>\n",
       "      <td>68.0</td>\n",
       "      <td>308</td>\n",
       "      <td>648.0</td>\n",
       "    </tr>\n",
       "    <tr>\n",
       "      <th>439</th>\n",
       "      <td>MI</td>\n",
       "      <td>81</td>\n",
       "      <td>415</td>\n",
       "      <td>408-3384</td>\n",
       "      <td>0</td>\n",
       "      <td>0</td>\n",
       "      <td>0</td>\n",
       "      <td>153.5</td>\n",
       "      <td>99</td>\n",
       "      <td>26.10</td>\n",
       "      <td>...</td>\n",
       "      <td>86</td>\n",
       "      <td>8.93</td>\n",
       "      <td>6.3</td>\n",
       "      <td>2</td>\n",
       "      <td>1.70</td>\n",
       "      <td>2</td>\n",
       "      <td>0</td>\n",
       "      <td>54.0</td>\n",
       "      <td>289</td>\n",
       "      <td>556.0</td>\n",
       "    </tr>\n",
       "    <tr>\n",
       "      <th>2598</th>\n",
       "      <td>TN</td>\n",
       "      <td>196</td>\n",
       "      <td>415</td>\n",
       "      <td>340-8291</td>\n",
       "      <td>0</td>\n",
       "      <td>0</td>\n",
       "      <td>0</td>\n",
       "      <td>133.1</td>\n",
       "      <td>80</td>\n",
       "      <td>22.63</td>\n",
       "      <td>...</td>\n",
       "      <td>96</td>\n",
       "      <td>9.97</td>\n",
       "      <td>10.3</td>\n",
       "      <td>8</td>\n",
       "      <td>2.78</td>\n",
       "      <td>1</td>\n",
       "      <td>0</td>\n",
       "      <td>53.0</td>\n",
       "      <td>304</td>\n",
       "      <td>572.0</td>\n",
       "    </tr>\n",
       "    <tr>\n",
       "      <th>1441</th>\n",
       "      <td>NC</td>\n",
       "      <td>172</td>\n",
       "      <td>408</td>\n",
       "      <td>331-5962</td>\n",
       "      <td>0</td>\n",
       "      <td>1</td>\n",
       "      <td>47</td>\n",
       "      <td>274.9</td>\n",
       "      <td>102</td>\n",
       "      <td>46.73</td>\n",
       "      <td>...</td>\n",
       "      <td>123</td>\n",
       "      <td>11.03</td>\n",
       "      <td>8.8</td>\n",
       "      <td>2</td>\n",
       "      <td>2.38</td>\n",
       "      <td>1</td>\n",
       "      <td>0</td>\n",
       "      <td>76.0</td>\n",
       "      <td>345</td>\n",
       "      <td>715.0</td>\n",
       "    </tr>\n",
       "    <tr>\n",
       "      <th>1146</th>\n",
       "      <td>WA</td>\n",
       "      <td>161</td>\n",
       "      <td>415</td>\n",
       "      <td>378-8137</td>\n",
       "      <td>0</td>\n",
       "      <td>0</td>\n",
       "      <td>0</td>\n",
       "      <td>151.6</td>\n",
       "      <td>117</td>\n",
       "      <td>25.77</td>\n",
       "      <td>...</td>\n",
       "      <td>68</td>\n",
       "      <td>10.11</td>\n",
       "      <td>4.0</td>\n",
       "      <td>5</td>\n",
       "      <td>1.08</td>\n",
       "      <td>1</td>\n",
       "      <td>0</td>\n",
       "      <td>56.0</td>\n",
       "      <td>277</td>\n",
       "      <td>600.0</td>\n",
       "    </tr>\n",
       "  </tbody>\n",
       "</table>\n",
       "<p>10 rows × 24 columns</p>\n",
       "</div>"
      ],
      "text/plain": [
       "     state  account length  area code phone number  international plan  \\\n",
       "1881    NE              76        415     334-6519                   0   \n",
       "895     MD             106        415     343-2350                   0   \n",
       "2244    KS             148        510     415-4051                   0   \n",
       "3207    DC              93        408     345-1994                   0   \n",
       "1471    OH              75        415     340-9803                   0   \n",
       "1503    WV              57        415     419-6418                   1   \n",
       "439     MI              81        415     408-3384                   0   \n",
       "2598    TN             196        415     340-8291                   0   \n",
       "1441    NC             172        408     331-5962                   0   \n",
       "1146    WA             161        415     378-8137                   0   \n",
       "\n",
       "      voice mail plan  number vmail messages  total day minutes  \\\n",
       "1881                0                      0              272.7   \n",
       "895                 0                      0              165.3   \n",
       "2244                0                      0              239.3   \n",
       "3207                1                     22              306.2   \n",
       "1471                0                      0              150.6   \n",
       "1503                1                     17              236.5   \n",
       "439                 0                      0              153.5   \n",
       "2598                0                      0              133.1   \n",
       "1441                1                     47              274.9   \n",
       "1146                0                      0              151.6   \n",
       "\n",
       "      total day calls  total day charge  ...  total night calls  \\\n",
       "1881               97             46.36  ...                105   \n",
       "895               118             28.10  ...                 93   \n",
       "2244               84             40.68  ...                104   \n",
       "3207              123             52.05  ...                107   \n",
       "1471               99             25.60  ...                104   \n",
       "1503               94             40.21  ...                117   \n",
       "439                99             26.10  ...                 86   \n",
       "2598               80             22.63  ...                 96   \n",
       "1441              102             46.73  ...                123   \n",
       "1146              117             25.77  ...                 68   \n",
       "\n",
       "      total night charge  total intl minutes  total intl calls  \\\n",
       "1881               10.60                 7.7                 2   \n",
       "895                 8.42                 8.5                 3   \n",
       "2244               10.47                10.9                 3   \n",
       "3207               10.81                11.7                 2   \n",
       "1471                7.14                 8.1                 5   \n",
       "1503               10.65                12.2                 3   \n",
       "439                 8.93                 6.3                 2   \n",
       "2598                9.97                10.3                 8   \n",
       "1441               11.03                 8.8                 2   \n",
       "1146               10.11                 4.0                 5   \n",
       "\n",
       "      total intl charge  customer service calls  churn  total_charges  \\\n",
       "1881               2.08                       0      1           79.0   \n",
       "895                2.30                       2      0           57.0   \n",
       "2244               2.94                       1      0           71.0   \n",
       "3207               3.16                       0      0           82.0   \n",
       "1471               2.19                       0      0           61.0   \n",
       "1503               3.29                       2      0           68.0   \n",
       "439                1.70                       2      0           54.0   \n",
       "2598               2.78                       1      0           53.0   \n",
       "1441               2.38                       1      0           76.0   \n",
       "1146               1.08                       1      0           56.0   \n",
       "\n",
       "      total_calls  total_minutes  \n",
       "1881          299          752.0  \n",
       "895           315          571.0  \n",
       "2244          276          678.0  \n",
       "3207          315          748.0  \n",
       "1471          291          619.0  \n",
       "1503          308          648.0  \n",
       "439           289          556.0  \n",
       "2598          304          572.0  \n",
       "1441          345          715.0  \n",
       "1146          277          600.0  \n",
       "\n",
       "[10 rows x 24 columns]"
      ]
     },
     "execution_count": 10,
     "metadata": {},
     "output_type": "execute_result"
    }
   ],
   "source": [
    "#Display 10 random entries to confirm changes\n",
    "data.sample(10)"
   ]
  },
  {
   "cell_type": "markdown",
   "metadata": {},
   "source": [
    "#### 3.2 Create a copy of data"
   ]
  },
  {
   "cell_type": "code",
   "execution_count": 11,
   "metadata": {},
   "outputs": [
    {
     "data": {
      "text/html": [
       "<div>\n",
       "<style scoped>\n",
       "    .dataframe tbody tr th:only-of-type {\n",
       "        vertical-align: middle;\n",
       "    }\n",
       "\n",
       "    .dataframe tbody tr th {\n",
       "        vertical-align: top;\n",
       "    }\n",
       "\n",
       "    .dataframe thead th {\n",
       "        text-align: right;\n",
       "    }\n",
       "</style>\n",
       "<table border=\"1\" class=\"dataframe\">\n",
       "  <thead>\n",
       "    <tr style=\"text-align: right;\">\n",
       "      <th></th>\n",
       "      <th>state</th>\n",
       "      <th>account length</th>\n",
       "      <th>area code</th>\n",
       "      <th>international plan</th>\n",
       "      <th>voice mail plan</th>\n",
       "      <th>number vmail messages</th>\n",
       "      <th>customer service calls</th>\n",
       "      <th>churn</th>\n",
       "      <th>total_charges</th>\n",
       "      <th>total_calls</th>\n",
       "      <th>total_minutes</th>\n",
       "    </tr>\n",
       "  </thead>\n",
       "  <tbody>\n",
       "    <tr>\n",
       "      <th>2028</th>\n",
       "      <td>SD</td>\n",
       "      <td>93</td>\n",
       "      <td>510</td>\n",
       "      <td>0</td>\n",
       "      <td>0</td>\n",
       "      <td>0</td>\n",
       "      <td>1</td>\n",
       "      <td>1</td>\n",
       "      <td>85.0</td>\n",
       "      <td>312</td>\n",
       "      <td>792.0</td>\n",
       "    </tr>\n",
       "    <tr>\n",
       "      <th>1435</th>\n",
       "      <td>IL</td>\n",
       "      <td>89</td>\n",
       "      <td>415</td>\n",
       "      <td>1</td>\n",
       "      <td>1</td>\n",
       "      <td>19</td>\n",
       "      <td>0</td>\n",
       "      <td>1</td>\n",
       "      <td>50.0</td>\n",
       "      <td>364</td>\n",
       "      <td>509.0</td>\n",
       "    </tr>\n",
       "    <tr>\n",
       "      <th>2863</th>\n",
       "      <td>ME</td>\n",
       "      <td>28</td>\n",
       "      <td>415</td>\n",
       "      <td>0</td>\n",
       "      <td>0</td>\n",
       "      <td>0</td>\n",
       "      <td>3</td>\n",
       "      <td>0</td>\n",
       "      <td>70.0</td>\n",
       "      <td>307</td>\n",
       "      <td>694.0</td>\n",
       "    </tr>\n",
       "    <tr>\n",
       "      <th>900</th>\n",
       "      <td>VA</td>\n",
       "      <td>72</td>\n",
       "      <td>510</td>\n",
       "      <td>1</td>\n",
       "      <td>1</td>\n",
       "      <td>29</td>\n",
       "      <td>0</td>\n",
       "      <td>0</td>\n",
       "      <td>47.0</td>\n",
       "      <td>299</td>\n",
       "      <td>504.0</td>\n",
       "    </tr>\n",
       "    <tr>\n",
       "      <th>2163</th>\n",
       "      <td>KS</td>\n",
       "      <td>119</td>\n",
       "      <td>415</td>\n",
       "      <td>0</td>\n",
       "      <td>0</td>\n",
       "      <td>0</td>\n",
       "      <td>1</td>\n",
       "      <td>0</td>\n",
       "      <td>74.0</td>\n",
       "      <td>307</td>\n",
       "      <td>717.0</td>\n",
       "    </tr>\n",
       "    <tr>\n",
       "      <th>569</th>\n",
       "      <td>NC</td>\n",
       "      <td>133</td>\n",
       "      <td>408</td>\n",
       "      <td>1</td>\n",
       "      <td>1</td>\n",
       "      <td>32</td>\n",
       "      <td>2</td>\n",
       "      <td>1</td>\n",
       "      <td>72.0</td>\n",
       "      <td>348</td>\n",
       "      <td>670.0</td>\n",
       "    </tr>\n",
       "    <tr>\n",
       "      <th>475</th>\n",
       "      <td>AR</td>\n",
       "      <td>74</td>\n",
       "      <td>510</td>\n",
       "      <td>0</td>\n",
       "      <td>0</td>\n",
       "      <td>0</td>\n",
       "      <td>3</td>\n",
       "      <td>0</td>\n",
       "      <td>53.0</td>\n",
       "      <td>242</td>\n",
       "      <td>594.0</td>\n",
       "    </tr>\n",
       "    <tr>\n",
       "      <th>171</th>\n",
       "      <td>NH</td>\n",
       "      <td>64</td>\n",
       "      <td>408</td>\n",
       "      <td>0</td>\n",
       "      <td>1</td>\n",
       "      <td>27</td>\n",
       "      <td>2</td>\n",
       "      <td>0</td>\n",
       "      <td>56.0</td>\n",
       "      <td>280</td>\n",
       "      <td>527.0</td>\n",
       "    </tr>\n",
       "    <tr>\n",
       "      <th>3161</th>\n",
       "      <td>NV</td>\n",
       "      <td>148</td>\n",
       "      <td>510</td>\n",
       "      <td>0</td>\n",
       "      <td>0</td>\n",
       "      <td>0</td>\n",
       "      <td>2</td>\n",
       "      <td>0</td>\n",
       "      <td>69.0</td>\n",
       "      <td>348</td>\n",
       "      <td>712.0</td>\n",
       "    </tr>\n",
       "    <tr>\n",
       "      <th>1342</th>\n",
       "      <td>AK</td>\n",
       "      <td>52</td>\n",
       "      <td>415</td>\n",
       "      <td>0</td>\n",
       "      <td>1</td>\n",
       "      <td>24</td>\n",
       "      <td>2</td>\n",
       "      <td>0</td>\n",
       "      <td>54.0</td>\n",
       "      <td>280</td>\n",
       "      <td>535.0</td>\n",
       "    </tr>\n",
       "  </tbody>\n",
       "</table>\n",
       "</div>"
      ],
      "text/plain": [
       "     state  account length  area code  international plan  voice mail plan  \\\n",
       "2028    SD              93        510                   0                0   \n",
       "1435    IL              89        415                   1                1   \n",
       "2863    ME              28        415                   0                0   \n",
       "900     VA              72        510                   1                1   \n",
       "2163    KS             119        415                   0                0   \n",
       "569     NC             133        408                   1                1   \n",
       "475     AR              74        510                   0                0   \n",
       "171     NH              64        408                   0                1   \n",
       "3161    NV             148        510                   0                0   \n",
       "1342    AK              52        415                   0                1   \n",
       "\n",
       "      number vmail messages  customer service calls  churn  total_charges  \\\n",
       "2028                      0                       1      1           85.0   \n",
       "1435                     19                       0      1           50.0   \n",
       "2863                      0                       3      0           70.0   \n",
       "900                      29                       0      0           47.0   \n",
       "2163                      0                       1      0           74.0   \n",
       "569                      32                       2      1           72.0   \n",
       "475                       0                       3      0           53.0   \n",
       "171                      27                       2      0           56.0   \n",
       "3161                      0                       2      0           69.0   \n",
       "1342                     24                       2      0           54.0   \n",
       "\n",
       "      total_calls  total_minutes  \n",
       "2028          312          792.0  \n",
       "1435          364          509.0  \n",
       "2863          307          694.0  \n",
       "900           299          504.0  \n",
       "2163          307          717.0  \n",
       "569           348          670.0  \n",
       "475           242          594.0  \n",
       "171           280          527.0  \n",
       "3161          348          712.0  \n",
       "1342          280          535.0  "
      ]
     },
     "execution_count": 11,
     "metadata": {},
     "output_type": "execute_result"
    }
   ],
   "source": [
    "import pandas as pd\n",
    "\n",
    "# Assuming 'data' is your DataFrame\n",
    "data_copy = data.copy()\n",
    "\n",
    "# Specify the columns to drop\n",
    "columns_to_drop = ['phone number','total day minutes', 'total eve minutes', 'total night minutes', 'total intl minutes', 'total day calls', 'total eve calls', 'total night calls', 'total intl calls','total day charge', 'total eve charge', 'total night charge', 'total intl charge']\n",
    "\n",
    "# Use the drop method with the 'columns' parameter\n",
    "data_copy = data_copy.drop(columns=columns_to_drop)\n",
    "\n",
    "# Print a sample of the modified DataFrame\n",
    "data_copy.sample(10)\n"
   ]
  },
  {
   "cell_type": "markdown",
   "metadata": {},
   "source": [
    "#### 3.3 Univariate Analysis"
   ]
  },
  {
   "cell_type": "code",
   "execution_count": 12,
   "metadata": {},
   "outputs": [
    {
     "data": {
      "image/png": "[encoded data removed]",
      "text/plain": [
       "<Figure size 432x360 with 1 Axes>"
      ]
     },
     "metadata": {
      "needs_background": "light"
     },
     "output_type": "display_data"
    }
   ],
   "source": [
    "# Churn distribution among subscribers\n",
    "#Setting size figure\n",
    "plt.figure(figsize=(6, 5))\n",
    "#Creating a countplot using seaborn\n",
    "ax = sns.countplot(x='churn', data=data, palette='viridis')\n",
    "#Calc the total number of data points\n",
    "total = len(data['churn'])\n",
    "\n",
    "#Adding percentage annotation for each bar\n",
    "for p in ax.patches:\n",
    "    percentage = '{:.1f}%'.format(100 * p.get_height() / total)\n",
    "    x = p.get_x() + p.get_width() / 2\n",
    "    y = p.get_height()\n",
    "    ax.annotate(percentage, (x, y), ha='center', va='bottom')\n",
    "\n",
    "#Set title for plot\n",
    "plt.title(\"Churn Distribution Among Subscribers\")\n",
    "plt.show()"
   ]
  },
  {
   "cell_type": "code",
   "execution_count": 44,
   "metadata": {},
   "outputs": [
    {
     "data": {
      "application/vnd.plotly.v1+json": {
       "config": {
        "plotlyServerURL": "https://plot.ly"
       },
       "data": [
        {
         "domain": {
          "x": [
           0,
           1
          ],
          "y": [
           0,
           1
          ]
         },
         "hole": 0.5,
         "hovertemplate": "label=%{label}<br>value=%{value}<extra></extra>",
         "labels": [
          415,
          510,
          408
         ],
         "legendgroup": "",
         "name": "",
         "showlegend": true,
         "type": "pie",
         "values": [
          1655,
          840,
          838
         ]
        }
       ],
       "layout": {
        "legend": {
         "tracegroupgap": 0
        },
        "template": {
         "data": {
          "bar": [
           {
            "error_x": {
             "color": "#2a3f5f"
            },
            "error_y": {
             "color": "#2a3f5f"
            },
            "marker": {
             "line": {
              "color": "#E5ECF6",
              "width": 0.5
             }
            },
            "type": "bar"
           }
          ],
          "barpolar": [
           {
            "marker": {
             "line": {
              "color": "#E5ECF6",
              "width": 0.5
             }
            },
            "type": "barpolar"
           }
          ],
          "carpet": [
           {
            "aaxis": {
             "endlinecolor": "#2a3f5f",
             "gridcolor": "white",
             "linecolor": "white",
             "minorgridcolor": "white",
             "startlinecolor": "#2a3f5f"
            },
            "baxis": {
             "endlinecolor": "#2a3f5f",
             "gridcolor": "white",
             "linecolor": "white",
             "minorgridcolor": "white",
             "startlinecolor": "#2a3f5f"
            },
            "type": "carpet"
           }
          ],
          "choropleth": [
           {
            "colorbar": {
             "outlinewidth": 0,
             "ticks": ""
            },
            "type": "choropleth"
           }
          ],
          "contour": [
           {
            "colorbar": {
             "outlinewidth": 0,
             "ticks": ""
            },
            "colorscale": [
             [
              0,
              "#0d0887"
             ],
             [
              0.1111111111111111,
              "#46039f"
             ],
             [
              0.2222222222222222,
              "#7201a8"
             ],
             [
              0.3333333333333333,
              "#9c179e"
             ],
             [
              0.4444444444444444,
              "#bd3786"
             ],
             [
              0.5555555555555556,
              "#d8576b"
             ],
             [
              0.6666666666666666,
              "#ed7953"
             ],
             [
              0.7777777777777778,
              "#fb9f3a"
             ],
             [
              0.8888888888888888,
              "#fdca26"
             ],
             [
              1,
              "#f0f921"
             ]
            ],
            "type": "contour"
           }
          ],
          "contourcarpet": [
           {
            "colorbar": {
             "outlinewidth": 0,
             "ticks": ""
            },
            "type": "contourcarpet"
           }
          ],
          "heatmap": [
           {
            "colorbar": {
             "outlinewidth": 0,
             "ticks": ""
            },
            "colorscale": [
             [
              0,
              "#0d0887"
             ],
             [
              0.1111111111111111,
              "#46039f"
             ],
             [
              0.2222222222222222,
              "#7201a8"
             ],
             [
              0.3333333333333333,
              "#9c179e"
             ],
             [
              0.4444444444444444,
              "#bd3786"
             ],
             [
              0.5555555555555556,
              "#d8576b"
             ],
             [
              0.6666666666666666,
              "#ed7953"
             ],
             [
              0.7777777777777778,
              "#fb9f3a"
             ],
             [
              0.8888888888888888,
              "#fdca26"
             ],
             [
              1,
              "#f0f921"
             ]
            ],
            "type": "heatmap"
           }
          ],
          "heatmapgl": [
           {
            "colorbar": {
             "outlinewidth": 0,
             "ticks": ""
            },
            "colorscale": [
             [
              0,
              "#0d0887"
             ],
             [
              0.1111111111111111,
              "#46039f"
             ],
             [
              0.2222222222222222,
              "#7201a8"
             ],
             [
              0.3333333333333333,
              "#9c179e"
             ],
             [
              0.4444444444444444,
              "#bd3786"
             ],
             [
              0.5555555555555556,
              "#d8576b"
             ],
             [
              0.6666666666666666,
              "#ed7953"
             ],
             [
              0.7777777777777778,
              "#fb9f3a"
             ],
             [
              0.8888888888888888,
              "#fdca26"
             ],
             [
              1,
              "#f0f921"
             ]
            ],
            "type": "heatmapgl"
           }
          ],
          "histogram": [
           {
            "marker": {
             "colorbar": {
              "outlinewidth": 0,
              "ticks": ""
             }
            },
            "type": "histogram"
           }
          ],
          "histogram2d": [
           {
            "colorbar": {
             "outlinewidth": 0,
             "ticks": ""
            },
            "colorscale": [
             [
              0,
              "#0d0887"
             ],
             [
              0.1111111111111111,
              "#46039f"
             ],
             [
              0.2222222222222222,
              "#7201a8"
             ],
             [
              0.3333333333333333,
              "#9c179e"
             ],
             [
              0.4444444444444444,
              "#bd3786"
             ],
             [
              0.5555555555555556,
              "#d8576b"
             ],
             [
              0.6666666666666666,
              "#ed7953"
             ],
             [
              0.7777777777777778,
              "#fb9f3a"
             ],
             [
              0.8888888888888888,
              "#fdca26"
             ],
             [
              1,
              "#f0f921"
             ]
            ],
            "type": "histogram2d"
           }
          ],
          "histogram2dcontour": [
           {
            "colorbar": {
             "outlinewidth": 0,
             "ticks": ""
            },
            "colorscale": [
             [
              0,
              "#0d0887"
             ],
             [
              0.1111111111111111,
              "#46039f"
             ],
             [
              0.2222222222222222,
              "#7201a8"
             ],
             [
              0.3333333333333333,
              "#9c179e"
             ],
             [
              0.4444444444444444,
              "#bd3786"
             ],
             [
              0.5555555555555556,
              "#d8576b"
             ],
             [
              0.6666666666666666,
              "#ed7953"
             ],
             [
              0.7777777777777778,
              "#fb9f3a"
             ],
             [
              0.8888888888888888,
              "#fdca26"
             ],
             [
              1,
              "#f0f921"
             ]
            ],
            "type": "histogram2dcontour"
           }
          ],
          "mesh3d": [
           {
            "colorbar": {
             "outlinewidth": 0,
             "ticks": ""
            },
            "type": "mesh3d"
           }
          ],
          "parcoords": [
           {
            "line": {
             "colorbar": {
              "outlinewidth": 0,
              "ticks": ""
             }
            },
            "type": "parcoords"
           }
          ],
          "pie": [
           {
            "automargin": true,
            "type": "pie"
           }
          ],
          "scatter": [
           {
            "marker": {
             "colorbar": {
              "outlinewidth": 0,
              "ticks": ""
             }
            },
            "type": "scatter"
           }
          ],
          "scatter3d": [
           {
            "line": {
             "colorbar": {
              "outlinewidth": 0,
              "ticks": ""
             }
            },
            "marker": {
             "colorbar": {
              "outlinewidth": 0,
              "ticks": ""
             }
            },
            "type": "scatter3d"
           }
          ],
          "scattercarpet": [
           {
            "marker": {
             "colorbar": {
              "outlinewidth": 0,
              "ticks": ""
             }
            },
            "type": "scattercarpet"
           }
          ],
          "scattergeo": [
           {
            "marker": {
             "colorbar": {
              "outlinewidth": 0,
              "ticks": ""
             }
            },
            "type": "scattergeo"
           }
          ],
          "scattergl": [
           {
            "marker": {
             "colorbar": {
              "outlinewidth": 0,
              "ticks": ""
             }
            },
            "type": "scattergl"
           }
          ],
          "scattermapbox": [
           {
            "marker": {
             "colorbar": {
              "outlinewidth": 0,
              "ticks": ""
             }
            },
            "type": "scattermapbox"
           }
          ],
          "scatterpolar": [
           {
            "marker": {
             "colorbar": {
              "outlinewidth": 0,
              "ticks": ""
             }
            },
            "type": "scatterpolar"
           }
          ],
          "scatterpolargl": [
           {
            "marker": {
             "colorbar": {
              "outlinewidth": 0,
              "ticks": ""
             }
            },
            "type": "scatterpolargl"
           }
          ],
          "scatterternary": [
           {
            "marker": {
             "colorbar": {
              "outlinewidth": 0,
              "ticks": ""
             }
            },
            "type": "scatterternary"
           }
          ],
          "surface": [
           {
            "colorbar": {
             "outlinewidth": 0,
             "ticks": ""
            },
            "colorscale": [
             [
              0,
              "#0d0887"
             ],
             [
              0.1111111111111111,
              "#46039f"
             ],
             [
              0.2222222222222222,
              "#7201a8"
             ],
             [
              0.3333333333333333,
              "#9c179e"
             ],
             [
              0.4444444444444444,
              "#bd3786"
             ],
             [
              0.5555555555555556,
              "#d8576b"
             ],
             [
              0.6666666666666666,
              "#ed7953"
             ],
             [
              0.7777777777777778,
              "#fb9f3a"
             ],
             [
              0.8888888888888888,
              "#fdca26"
             ],
             [
              1,
              "#f0f921"
             ]
            ],
            "type": "surface"
           }
          ],
          "table": [
           {
            "cells": {
             "fill": {
              "color": "#EBF0F8"
             },
             "line": {
              "color": "white"
             }
            },
            "header": {
             "fill": {
              "color": "#C8D4E3"
             },
             "line": {
              "color": "white"
             }
            },
            "type": "table"
           }
          ]
         },
         "layout": {
          "annotationdefaults": {
           "arrowcolor": "#2a3f5f",
           "arrowhead": 0,
           "arrowwidth": 1
          },
          "coloraxis": {
           "colorbar": {
            "outlinewidth": 0,
            "ticks": ""
           }
          },
          "colorscale": {
           "diverging": [
            [
             0,
             "#8e0152"
            ],
            [
             0.1,
             "#c51b7d"
            ],
            [
             0.2,
             "#de77ae"
            ],
            [
             0.3,
             "#f1b6da"
            ],
            [
             0.4,
             "#fde0ef"
            ],
            [
             0.5,
             "#f7f7f7"
            ],
            [
             0.6,
             "#e6f5d0"
            ],
            [
             0.7,
             "#b8e186"
            ],
            [
             0.8,
             "#7fbc41"
            ],
            [
             0.9,
             "#4d9221"
            ],
            [
             1,
             "#276419"
            ]
           ],
           "sequential": [
            [
             0,
             "#0d0887"
            ],
            [
             0.1111111111111111,
             "#46039f"
            ],
            [
             0.2222222222222222,
             "#7201a8"
            ],
            [
             0.3333333333333333,
             "#9c179e"
            ],
            [
             0.4444444444444444,
             "#bd3786"
            ],
            [
             0.5555555555555556,
             "#d8576b"
            ],
            [
             0.6666666666666666,
             "#ed7953"
            ],
            [
             0.7777777777777778,
             "#fb9f3a"
            ],
            [
             0.8888888888888888,
             "#fdca26"
            ],
            [
             1,
             "#f0f921"
            ]
           ],
           "sequentialminus": [
            [
             0,
             "#0d0887"
            ],
            [
             0.1111111111111111,
             "#46039f"
            ],
            [
             0.2222222222222222,
             "#7201a8"
            ],
            [
             0.3333333333333333,
             "#9c179e"
            ],
            [
             0.4444444444444444,
             "#bd3786"
            ],
            [
             0.5555555555555556,
             "#d8576b"
            ],
            [
             0.6666666666666666,
             "#ed7953"
            ],
            [
             0.7777777777777778,
             "#fb9f3a"
            ],
            [
             0.8888888888888888,
             "#fdca26"
            ],
            [
             1,
             "#f0f921"
            ]
           ]
          },
          "colorway": [
           "#636efa",
           "#EF553B",
           "#00cc96",
           "#ab63fa",
           "#FFA15A",
           "#19d3f3",
           "#FF6692",
           "#B6E880",
           "#FF97FF",
           "#FECB52"
          ],
          "font": {
           "color": "#2a3f5f"
          },
          "geo": {
           "bgcolor": "white",
           "lakecolor": "white",
           "landcolor": "#E5ECF6",
           "showlakes": true,
           "showland": true,
           "subunitcolor": "white"
          },
          "hoverlabel": {
           "align": "left"
          },
          "hovermode": "closest",
          "mapbox": {
           "style": "light"
          },
          "paper_bgcolor": "white",
          "plot_bgcolor": "#E5ECF6",
          "polar": {
           "angularaxis": {
            "gridcolor": "white",
            "linecolor": "white",
            "ticks": ""
           },
           "bgcolor": "#E5ECF6",
           "radialaxis": {
            "gridcolor": "white",
            "linecolor": "white",
            "ticks": ""
           }
          },
          "scene": {
           "xaxis": {
            "backgroundcolor": "#E5ECF6",
            "gridcolor": "white",
            "gridwidth": 2,
            "linecolor": "white",
            "showbackground": true,
            "ticks": "",
            "zerolinecolor": "white"
           },
           "yaxis": {
            "backgroundcolor": "#E5ECF6",
            "gridcolor": "white",
            "gridwidth": 2,
            "linecolor": "white",
            "showbackground": true,
            "ticks": "",
            "zerolinecolor": "white"
           },
           "zaxis": {
            "backgroundcolor": "#E5ECF6",
            "gridcolor": "white",
            "gridwidth": 2,
            "linecolor": "white",
            "showbackground": true,
            "ticks": "",
            "zerolinecolor": "white"
           }
          },
          "shapedefaults": {
           "line": {
            "color": "#2a3f5f"
           }
          },
          "ternary": {
           "aaxis": {
            "gridcolor": "white",
            "linecolor": "white",
            "ticks": ""
           },
           "baxis": {
            "gridcolor": "white",
            "linecolor": "white",
            "ticks": ""
           },
           "bgcolor": "#E5ECF6",
           "caxis": {
            "gridcolor": "white",
            "linecolor": "white",
            "ticks": ""
           }
          },
          "title": {
           "x": 0.05
          },
          "xaxis": {
           "automargin": true,
           "gridcolor": "white",
           "linecolor": "white",
           "ticks": "",
           "title": {
            "standoff": 15
           },
           "zerolinecolor": "white",
           "zerolinewidth": 2
          },
          "yaxis": {
           "automargin": true,
           "gridcolor": "white",
           "linecolor": "white",
           "ticks": "",
           "title": {
            "standoff": 15
           },
           "zerolinecolor": "white",
           "zerolinewidth": 2
          }
         }
        },
        "title": {
         "text": "Distribution of Area Code Feature"
        }
       }
      }
     },
     "metadata": {},
     "output_type": "display_data"
    }
   ],
   "source": [
    "# Pie chart of area code feature\n",
    "area = data['area code'].value_counts()\n",
    "transanction = area.index\n",
    "quantity = area.values\n",
    "\n",
    "# plot pie circle with plotly\n",
    "figure = px.pie(data,\n",
    "               values = quantity,\n",
    "               names = transanction,\n",
    "               hole = .5,\n",
    "               title = 'Distribution of Area Code Feature')\n",
    "figure.show()"
   ]
  },
  {
   "cell_type": "markdown",
   "metadata": {},
   "source": [
    "#### 3.4 Bivariate analysis"
   ]
  },
  {
   "cell_type": "code",
   "execution_count": 13,
   "metadata": {},
   "outputs": [
    {
     "data": {
      "image/png": "[encoded data removed]",
      "text/plain": [
       "<Figure size 1152x432 with 1 Axes>"
      ]
     },
     "metadata": {
      "needs_background": "light"
     },
     "output_type": "display_data"
    }
   ],
   "source": [
    "# Churn vs States\n",
    "\n",
    "# Set figure size\n",
    "plt.figure(figsize=(16, 6))\n",
    "\n",
    "# Create a bar plot\n",
    "sns.countplot(x='state', hue='churn', data=data_copy, palette='viridis')\n",
    "\n",
    "# Add titles and labels\n",
    "plt.title('Churn Distribution Across States')\n",
    "plt.xlabel('State')\n",
    "plt.ylabel('Count')\n",
    "\n",
    "# Show the plot\n",
    "plt.show()\n"
   ]
  },
  {
   "cell_type": "code",
   "execution_count": 46,
   "metadata": {},
   "outputs": [
    {
     "data": {
      "image/png": "[encoded data removed]",
      "text/plain": [
       "<Figure size 1152x432 with 1 Axes>"
      ]
     },
     "metadata": {
      "needs_background": "light"
     },
     "output_type": "display_data"
    }
   ],
   "source": [
    "# Calculate the total number of churns for each state\n",
    "state_churn_counts = data.groupby('state')['churn'].sum()\n",
    "\n",
    "# Find the top 5 states with the highest churn counts\n",
    "top_5_states = state_churn_counts.sort_values(ascending=False).head(5).index\n",
    "\n",
    "# Set figure size\n",
    "plt.figure(figsize=(16, 6))\n",
    "\n",
    "# Create a bar plot for the top 5 states\n",
    "sns.countplot(x='state', hue='churn', data=data[data['state'].isin(top_5_states)], palette='viridis')\n",
    "\n",
    "# Add titles and labels\n",
    "plt.title('Churn Distribution Across Top 5 States')\n",
    "plt.xlabel('State')\n",
    "plt.ylabel('Count')\n",
    "\n",
    "# Show the plot\n",
    "plt.show()\n"
   ]
  },
  {
   "cell_type": "code",
   "execution_count": 14,
   "metadata": {},
   "outputs": [
    {
     "data": {
      "image/png": "[encoded data removed]",
      "text/plain": [
       "<Figure size 720x360 with 1 Axes>"
      ]
     },
     "metadata": {
      "needs_background": "light"
     },
     "output_type": "display_data"
    }
   ],
   "source": [
    "# Create a figure and axis\n",
    "plt.figure(figsize=(10, 5))\n",
    "\n",
    "# Plot the stacked bar plot\n",
    "sns.histplot(data=data_copy, x='total_minutes', hue='churn', multiple='stack', binwidth=50, palette='viridis')\n",
    "\n",
    "# Add labels and title\n",
    "plt.xlabel('Total Minutes')\n",
    "plt.ylabel('Count')\n",
    "plt.title('Total Minutes vs Churn Distribution')\n",
    "\n",
    "# Show the plot\n",
    "plt.show()\n"
   ]
  },
  {
   "cell_type": "code",
   "execution_count": 15,
   "metadata": {},
   "outputs": [
    {
     "data": {
      "image/png": "[encoded data removed]",
      "text/plain": [
       "<Figure size 1080x576 with 2 Axes>"
      ]
     },
     "metadata": {
      "needs_background": "light"
     },
     "output_type": "display_data"
    }
   ],
   "source": [
    "#Calculate the correlation matrix using the corr() method\n",
    "correlation_matrix = data_copy.corr()\n",
    "\n",
    "plt.figure(figsize=(15, 8))\n",
    "sns.heatmap(correlation_matrix, annot=True, cmap='Reds')\n",
    "plt.title('Correlation Matrix')\n",
    "plt.show()"
   ]
  },
  {
   "cell_type": "markdown",
   "metadata": {},
   "source": [
    "Multicollinearity occurs when two or more features in the dataset are highly correlated with each other, which can cause issues during modeling such as instability, overfitting, or inaccurate coefficient estimates."
   ]
  },
  {
   "cell_type": "markdown",
   "metadata": {},
   "source": [
    "# 4. MODELLING"
   ]
  },
  {
   "cell_type": "code",
   "execution_count": 16,
   "metadata": {},
   "outputs": [],
   "source": [
    "#Onehote encoding for our categorcial features\n",
    "data_copy = pd.get_dummies(data_copy, columns=['state', 'area code'], drop_first=True)\n"
   ]
  },
  {
   "cell_type": "code",
   "execution_count": 17,
   "metadata": {},
   "outputs": [
    {
     "data": {
      "text/html": [
       "<div>\n",
       "<style scoped>\n",
       "    .dataframe tbody tr th:only-of-type {\n",
       "        vertical-align: middle;\n",
       "    }\n",
       "\n",
       "    .dataframe tbody tr th {\n",
       "        vertical-align: top;\n",
       "    }\n",
       "\n",
       "    .dataframe thead th {\n",
       "        text-align: right;\n",
       "    }\n",
       "</style>\n",
       "<table border=\"1\" class=\"dataframe\">\n",
       "  <thead>\n",
       "    <tr style=\"text-align: right;\">\n",
       "      <th></th>\n",
       "      <th>account length</th>\n",
       "      <th>international plan</th>\n",
       "      <th>voice mail plan</th>\n",
       "      <th>number vmail messages</th>\n",
       "      <th>customer service calls</th>\n",
       "      <th>churn</th>\n",
       "      <th>total_charges</th>\n",
       "      <th>total_calls</th>\n",
       "      <th>total_minutes</th>\n",
       "      <th>state_AL</th>\n",
       "      <th>...</th>\n",
       "      <th>state_TX</th>\n",
       "      <th>state_UT</th>\n",
       "      <th>state_VA</th>\n",
       "      <th>state_VT</th>\n",
       "      <th>state_WA</th>\n",
       "      <th>state_WI</th>\n",
       "      <th>state_WV</th>\n",
       "      <th>state_WY</th>\n",
       "      <th>area code_415</th>\n",
       "      <th>area code_510</th>\n",
       "    </tr>\n",
       "  </thead>\n",
       "  <tbody>\n",
       "    <tr>\n",
       "      <th>362</th>\n",
       "      <td>39</td>\n",
       "      <td>0</td>\n",
       "      <td>1</td>\n",
       "      <td>36</td>\n",
       "      <td>1</td>\n",
       "      <td>0</td>\n",
       "      <td>57.0</td>\n",
       "      <td>370</td>\n",
       "      <td>608.0</td>\n",
       "      <td>0</td>\n",
       "      <td>...</td>\n",
       "      <td>0</td>\n",
       "      <td>0</td>\n",
       "      <td>0</td>\n",
       "      <td>0</td>\n",
       "      <td>0</td>\n",
       "      <td>0</td>\n",
       "      <td>0</td>\n",
       "      <td>0</td>\n",
       "      <td>1</td>\n",
       "      <td>0</td>\n",
       "    </tr>\n",
       "    <tr>\n",
       "      <th>2611</th>\n",
       "      <td>135</td>\n",
       "      <td>0</td>\n",
       "      <td>0</td>\n",
       "      <td>0</td>\n",
       "      <td>0</td>\n",
       "      <td>0</td>\n",
       "      <td>54.0</td>\n",
       "      <td>282</td>\n",
       "      <td>529.0</td>\n",
       "      <td>0</td>\n",
       "      <td>...</td>\n",
       "      <td>0</td>\n",
       "      <td>0</td>\n",
       "      <td>0</td>\n",
       "      <td>0</td>\n",
       "      <td>0</td>\n",
       "      <td>0</td>\n",
       "      <td>0</td>\n",
       "      <td>0</td>\n",
       "      <td>0</td>\n",
       "      <td>1</td>\n",
       "    </tr>\n",
       "    <tr>\n",
       "      <th>3068</th>\n",
       "      <td>78</td>\n",
       "      <td>0</td>\n",
       "      <td>1</td>\n",
       "      <td>21</td>\n",
       "      <td>2</td>\n",
       "      <td>0</td>\n",
       "      <td>54.0</td>\n",
       "      <td>257</td>\n",
       "      <td>517.0</td>\n",
       "      <td>0</td>\n",
       "      <td>...</td>\n",
       "      <td>0</td>\n",
       "      <td>0</td>\n",
       "      <td>0</td>\n",
       "      <td>0</td>\n",
       "      <td>0</td>\n",
       "      <td>0</td>\n",
       "      <td>0</td>\n",
       "      <td>0</td>\n",
       "      <td>1</td>\n",
       "      <td>0</td>\n",
       "    </tr>\n",
       "    <tr>\n",
       "      <th>2934</th>\n",
       "      <td>24</td>\n",
       "      <td>0</td>\n",
       "      <td>0</td>\n",
       "      <td>0</td>\n",
       "      <td>2</td>\n",
       "      <td>1</td>\n",
       "      <td>50.0</td>\n",
       "      <td>226</td>\n",
       "      <td>527.0</td>\n",
       "      <td>0</td>\n",
       "      <td>...</td>\n",
       "      <td>0</td>\n",
       "      <td>0</td>\n",
       "      <td>0</td>\n",
       "      <td>0</td>\n",
       "      <td>0</td>\n",
       "      <td>0</td>\n",
       "      <td>0</td>\n",
       "      <td>0</td>\n",
       "      <td>0</td>\n",
       "      <td>0</td>\n",
       "    </tr>\n",
       "    <tr>\n",
       "      <th>2198</th>\n",
       "      <td>127</td>\n",
       "      <td>0</td>\n",
       "      <td>0</td>\n",
       "      <td>0</td>\n",
       "      <td>0</td>\n",
       "      <td>0</td>\n",
       "      <td>65.0</td>\n",
       "      <td>348</td>\n",
       "      <td>548.0</td>\n",
       "      <td>0</td>\n",
       "      <td>...</td>\n",
       "      <td>0</td>\n",
       "      <td>0</td>\n",
       "      <td>0</td>\n",
       "      <td>0</td>\n",
       "      <td>0</td>\n",
       "      <td>0</td>\n",
       "      <td>0</td>\n",
       "      <td>0</td>\n",
       "      <td>1</td>\n",
       "      <td>0</td>\n",
       "    </tr>\n",
       "    <tr>\n",
       "      <th>2214</th>\n",
       "      <td>90</td>\n",
       "      <td>0</td>\n",
       "      <td>0</td>\n",
       "      <td>0</td>\n",
       "      <td>1</td>\n",
       "      <td>0</td>\n",
       "      <td>64.0</td>\n",
       "      <td>355</td>\n",
       "      <td>625.0</td>\n",
       "      <td>0</td>\n",
       "      <td>...</td>\n",
       "      <td>0</td>\n",
       "      <td>0</td>\n",
       "      <td>0</td>\n",
       "      <td>0</td>\n",
       "      <td>0</td>\n",
       "      <td>0</td>\n",
       "      <td>0</td>\n",
       "      <td>0</td>\n",
       "      <td>1</td>\n",
       "      <td>0</td>\n",
       "    </tr>\n",
       "    <tr>\n",
       "      <th>82</th>\n",
       "      <td>55</td>\n",
       "      <td>0</td>\n",
       "      <td>1</td>\n",
       "      <td>25</td>\n",
       "      <td>3</td>\n",
       "      <td>0</td>\n",
       "      <td>51.0</td>\n",
       "      <td>310</td>\n",
       "      <td>488.0</td>\n",
       "      <td>0</td>\n",
       "      <td>...</td>\n",
       "      <td>0</td>\n",
       "      <td>0</td>\n",
       "      <td>0</td>\n",
       "      <td>0</td>\n",
       "      <td>0</td>\n",
       "      <td>0</td>\n",
       "      <td>0</td>\n",
       "      <td>0</td>\n",
       "      <td>0</td>\n",
       "      <td>0</td>\n",
       "    </tr>\n",
       "    <tr>\n",
       "      <th>3046</th>\n",
       "      <td>110</td>\n",
       "      <td>0</td>\n",
       "      <td>0</td>\n",
       "      <td>0</td>\n",
       "      <td>1</td>\n",
       "      <td>0</td>\n",
       "      <td>34.0</td>\n",
       "      <td>251</td>\n",
       "      <td>402.0</td>\n",
       "      <td>0</td>\n",
       "      <td>...</td>\n",
       "      <td>0</td>\n",
       "      <td>0</td>\n",
       "      <td>0</td>\n",
       "      <td>0</td>\n",
       "      <td>0</td>\n",
       "      <td>0</td>\n",
       "      <td>0</td>\n",
       "      <td>0</td>\n",
       "      <td>0</td>\n",
       "      <td>1</td>\n",
       "    </tr>\n",
       "    <tr>\n",
       "      <th>2587</th>\n",
       "      <td>105</td>\n",
       "      <td>0</td>\n",
       "      <td>0</td>\n",
       "      <td>0</td>\n",
       "      <td>3</td>\n",
       "      <td>0</td>\n",
       "      <td>66.0</td>\n",
       "      <td>362</td>\n",
       "      <td>641.0</td>\n",
       "      <td>0</td>\n",
       "      <td>...</td>\n",
       "      <td>0</td>\n",
       "      <td>0</td>\n",
       "      <td>0</td>\n",
       "      <td>0</td>\n",
       "      <td>0</td>\n",
       "      <td>0</td>\n",
       "      <td>0</td>\n",
       "      <td>0</td>\n",
       "      <td>0</td>\n",
       "      <td>1</td>\n",
       "    </tr>\n",
       "    <tr>\n",
       "      <th>3094</th>\n",
       "      <td>91</td>\n",
       "      <td>0</td>\n",
       "      <td>0</td>\n",
       "      <td>0</td>\n",
       "      <td>1</td>\n",
       "      <td>0</td>\n",
       "      <td>48.0</td>\n",
       "      <td>251</td>\n",
       "      <td>493.0</td>\n",
       "      <td>0</td>\n",
       "      <td>...</td>\n",
       "      <td>0</td>\n",
       "      <td>0</td>\n",
       "      <td>0</td>\n",
       "      <td>0</td>\n",
       "      <td>0</td>\n",
       "      <td>0</td>\n",
       "      <td>0</td>\n",
       "      <td>0</td>\n",
       "      <td>1</td>\n",
       "      <td>0</td>\n",
       "    </tr>\n",
       "  </tbody>\n",
       "</table>\n",
       "<p>10 rows × 61 columns</p>\n",
       "</div>"
      ],
      "text/plain": [
       "      account length  international plan  voice mail plan  \\\n",
       "362               39                   0                1   \n",
       "2611             135                   0                0   \n",
       "3068              78                   0                1   \n",
       "2934              24                   0                0   \n",
       "2198             127                   0                0   \n",
       "2214              90                   0                0   \n",
       "82                55                   0                1   \n",
       "3046             110                   0                0   \n",
       "2587             105                   0                0   \n",
       "3094              91                   0                0   \n",
       "\n",
       "      number vmail messages  customer service calls  churn  total_charges  \\\n",
       "362                      36                       1      0           57.0   \n",
       "2611                      0                       0      0           54.0   \n",
       "3068                     21                       2      0           54.0   \n",
       "2934                      0                       2      1           50.0   \n",
       "2198                      0                       0      0           65.0   \n",
       "2214                      0                       1      0           64.0   \n",
       "82                       25                       3      0           51.0   \n",
       "3046                      0                       1      0           34.0   \n",
       "2587                      0                       3      0           66.0   \n",
       "3094                      0                       1      0           48.0   \n",
       "\n",
       "      total_calls  total_minutes  state_AL  ...  state_TX  state_UT  state_VA  \\\n",
       "362           370          608.0         0  ...         0         0         0   \n",
       "2611          282          529.0         0  ...         0         0         0   \n",
       "3068          257          517.0         0  ...         0         0         0   \n",
       "2934          226          527.0         0  ...         0         0         0   \n",
       "2198          348          548.0         0  ...         0         0         0   \n",
       "2214          355          625.0         0  ...         0         0         0   \n",
       "82            310          488.0         0  ...         0         0         0   \n",
       "3046          251          402.0         0  ...         0         0         0   \n",
       "2587          362          641.0         0  ...         0         0         0   \n",
       "3094          251          493.0         0  ...         0         0         0   \n",
       "\n",
       "      state_VT  state_WA  state_WI  state_WV  state_WY  area code_415  \\\n",
       "362          0         0         0         0         0              1   \n",
       "2611         0         0         0         0         0              0   \n",
       "3068         0         0         0         0         0              1   \n",
       "2934         0         0         0         0         0              0   \n",
       "2198         0         0         0         0         0              1   \n",
       "2214         0         0         0         0         0              1   \n",
       "82           0         0         0         0         0              0   \n",
       "3046         0         0         0         0         0              0   \n",
       "2587         0         0         0         0         0              0   \n",
       "3094         0         0         0         0         0              1   \n",
       "\n",
       "      area code_510  \n",
       "362               0  \n",
       "2611              1  \n",
       "3068              0  \n",
       "2934              0  \n",
       "2198              0  \n",
       "2214              0  \n",
       "82                0  \n",
       "3046              1  \n",
       "2587              1  \n",
       "3094              0  \n",
       "\n",
       "[10 rows x 61 columns]"
      ]
     },
     "execution_count": 17,
     "metadata": {},
     "output_type": "execute_result"
    }
   ],
   "source": [
    "#Display 10 samples\n",
    "data_copy.sample(10)"
   ]
  },
  {
   "cell_type": "code",
   "execution_count": 18,
   "metadata": {},
   "outputs": [
    {
     "data": {
      "text/html": [
       "<div>\n",
       "<style scoped>\n",
       "    .dataframe tbody tr th:only-of-type {\n",
       "        vertical-align: middle;\n",
       "    }\n",
       "\n",
       "    .dataframe tbody tr th {\n",
       "        vertical-align: top;\n",
       "    }\n",
       "\n",
       "    .dataframe thead th {\n",
       "        text-align: right;\n",
       "    }\n",
       "</style>\n",
       "<table border=\"1\" class=\"dataframe\">\n",
       "  <thead>\n",
       "    <tr style=\"text-align: right;\">\n",
       "      <th></th>\n",
       "      <th>account length</th>\n",
       "      <th>international plan</th>\n",
       "      <th>voice mail plan</th>\n",
       "      <th>number vmail messages</th>\n",
       "      <th>customer service calls</th>\n",
       "      <th>churn</th>\n",
       "      <th>total_charges</th>\n",
       "      <th>total_calls</th>\n",
       "      <th>total_minutes</th>\n",
       "      <th>state_AL</th>\n",
       "      <th>...</th>\n",
       "      <th>state_TX</th>\n",
       "      <th>state_UT</th>\n",
       "      <th>state_VA</th>\n",
       "      <th>state_VT</th>\n",
       "      <th>state_WA</th>\n",
       "      <th>state_WI</th>\n",
       "      <th>state_WV</th>\n",
       "      <th>state_WY</th>\n",
       "      <th>area code_415</th>\n",
       "      <th>area code_510</th>\n",
       "    </tr>\n",
       "  </thead>\n",
       "  <tbody>\n",
       "    <tr>\n",
       "      <th>2742</th>\n",
       "      <td>0.595041</td>\n",
       "      <td>0.0</td>\n",
       "      <td>1.0</td>\n",
       "      <td>0.607843</td>\n",
       "      <td>0.222222</td>\n",
       "      <td>0.0</td>\n",
       "      <td>0.630137</td>\n",
       "      <td>0.604444</td>\n",
       "      <td>0.668885</td>\n",
       "      <td>0.0</td>\n",
       "      <td>...</td>\n",
       "      <td>0.0</td>\n",
       "      <td>0.0</td>\n",
       "      <td>0.0</td>\n",
       "      <td>0.0</td>\n",
       "      <td>0.0</td>\n",
       "      <td>0.0</td>\n",
       "      <td>1.0</td>\n",
       "      <td>0.0</td>\n",
       "      <td>0.0</td>\n",
       "      <td>0.0</td>\n",
       "    </tr>\n",
       "    <tr>\n",
       "      <th>281</th>\n",
       "      <td>0.330579</td>\n",
       "      <td>0.0</td>\n",
       "      <td>0.0</td>\n",
       "      <td>0.000000</td>\n",
       "      <td>0.222222</td>\n",
       "      <td>0.0</td>\n",
       "      <td>0.547945</td>\n",
       "      <td>0.386667</td>\n",
       "      <td>0.547421</td>\n",
       "      <td>0.0</td>\n",
       "      <td>...</td>\n",
       "      <td>0.0</td>\n",
       "      <td>0.0</td>\n",
       "      <td>0.0</td>\n",
       "      <td>0.0</td>\n",
       "      <td>0.0</td>\n",
       "      <td>0.0</td>\n",
       "      <td>0.0</td>\n",
       "      <td>0.0</td>\n",
       "      <td>1.0</td>\n",
       "      <td>0.0</td>\n",
       "    </tr>\n",
       "    <tr>\n",
       "      <th>1508</th>\n",
       "      <td>0.380165</td>\n",
       "      <td>0.0</td>\n",
       "      <td>0.0</td>\n",
       "      <td>0.000000</td>\n",
       "      <td>0.333333</td>\n",
       "      <td>0.0</td>\n",
       "      <td>0.534247</td>\n",
       "      <td>0.426667</td>\n",
       "      <td>0.668885</td>\n",
       "      <td>0.0</td>\n",
       "      <td>...</td>\n",
       "      <td>0.0</td>\n",
       "      <td>0.0</td>\n",
       "      <td>0.0</td>\n",
       "      <td>0.0</td>\n",
       "      <td>0.0</td>\n",
       "      <td>0.0</td>\n",
       "      <td>0.0</td>\n",
       "      <td>0.0</td>\n",
       "      <td>0.0</td>\n",
       "      <td>0.0</td>\n",
       "    </tr>\n",
       "    <tr>\n",
       "      <th>2658</th>\n",
       "      <td>0.413223</td>\n",
       "      <td>0.0</td>\n",
       "      <td>0.0</td>\n",
       "      <td>0.000000</td>\n",
       "      <td>0.000000</td>\n",
       "      <td>0.0</td>\n",
       "      <td>0.616438</td>\n",
       "      <td>0.551111</td>\n",
       "      <td>0.465890</td>\n",
       "      <td>0.0</td>\n",
       "      <td>...</td>\n",
       "      <td>0.0</td>\n",
       "      <td>0.0</td>\n",
       "      <td>0.0</td>\n",
       "      <td>0.0</td>\n",
       "      <td>0.0</td>\n",
       "      <td>0.0</td>\n",
       "      <td>0.0</td>\n",
       "      <td>0.0</td>\n",
       "      <td>1.0</td>\n",
       "      <td>0.0</td>\n",
       "    </tr>\n",
       "    <tr>\n",
       "      <th>2112</th>\n",
       "      <td>0.615702</td>\n",
       "      <td>0.0</td>\n",
       "      <td>0.0</td>\n",
       "      <td>0.000000</td>\n",
       "      <td>0.444444</td>\n",
       "      <td>1.0</td>\n",
       "      <td>0.397260</td>\n",
       "      <td>0.364444</td>\n",
       "      <td>0.391015</td>\n",
       "      <td>0.0</td>\n",
       "      <td>...</td>\n",
       "      <td>0.0</td>\n",
       "      <td>0.0</td>\n",
       "      <td>0.0</td>\n",
       "      <td>0.0</td>\n",
       "      <td>0.0</td>\n",
       "      <td>0.0</td>\n",
       "      <td>0.0</td>\n",
       "      <td>0.0</td>\n",
       "      <td>1.0</td>\n",
       "      <td>0.0</td>\n",
       "    </tr>\n",
       "    <tr>\n",
       "      <th>2323</th>\n",
       "      <td>0.123967</td>\n",
       "      <td>0.0</td>\n",
       "      <td>0.0</td>\n",
       "      <td>0.000000</td>\n",
       "      <td>0.111111</td>\n",
       "      <td>0.0</td>\n",
       "      <td>0.465753</td>\n",
       "      <td>0.293333</td>\n",
       "      <td>0.490849</td>\n",
       "      <td>0.0</td>\n",
       "      <td>...</td>\n",
       "      <td>0.0</td>\n",
       "      <td>0.0</td>\n",
       "      <td>0.0</td>\n",
       "      <td>0.0</td>\n",
       "      <td>0.0</td>\n",
       "      <td>0.0</td>\n",
       "      <td>0.0</td>\n",
       "      <td>0.0</td>\n",
       "      <td>0.0</td>\n",
       "      <td>1.0</td>\n",
       "    </tr>\n",
       "    <tr>\n",
       "      <th>2739</th>\n",
       "      <td>0.413223</td>\n",
       "      <td>0.0</td>\n",
       "      <td>1.0</td>\n",
       "      <td>0.176471</td>\n",
       "      <td>0.000000</td>\n",
       "      <td>0.0</td>\n",
       "      <td>0.424658</td>\n",
       "      <td>0.533333</td>\n",
       "      <td>0.392679</td>\n",
       "      <td>0.0</td>\n",
       "      <td>...</td>\n",
       "      <td>0.0</td>\n",
       "      <td>0.0</td>\n",
       "      <td>0.0</td>\n",
       "      <td>0.0</td>\n",
       "      <td>0.0</td>\n",
       "      <td>0.0</td>\n",
       "      <td>0.0</td>\n",
       "      <td>1.0</td>\n",
       "      <td>0.0</td>\n",
       "      <td>1.0</td>\n",
       "    </tr>\n",
       "    <tr>\n",
       "      <th>2636</th>\n",
       "      <td>0.425620</td>\n",
       "      <td>0.0</td>\n",
       "      <td>0.0</td>\n",
       "      <td>0.000000</td>\n",
       "      <td>0.222222</td>\n",
       "      <td>0.0</td>\n",
       "      <td>0.452055</td>\n",
       "      <td>0.262222</td>\n",
       "      <td>0.462562</td>\n",
       "      <td>0.0</td>\n",
       "      <td>...</td>\n",
       "      <td>0.0</td>\n",
       "      <td>0.0</td>\n",
       "      <td>0.0</td>\n",
       "      <td>0.0</td>\n",
       "      <td>0.0</td>\n",
       "      <td>0.0</td>\n",
       "      <td>0.0</td>\n",
       "      <td>0.0</td>\n",
       "      <td>0.0</td>\n",
       "      <td>0.0</td>\n",
       "    </tr>\n",
       "    <tr>\n",
       "      <th>1460</th>\n",
       "      <td>0.326446</td>\n",
       "      <td>0.0</td>\n",
       "      <td>0.0</td>\n",
       "      <td>0.000000</td>\n",
       "      <td>0.333333</td>\n",
       "      <td>0.0</td>\n",
       "      <td>0.479452</td>\n",
       "      <td>0.600000</td>\n",
       "      <td>0.435940</td>\n",
       "      <td>0.0</td>\n",
       "      <td>...</td>\n",
       "      <td>0.0</td>\n",
       "      <td>0.0</td>\n",
       "      <td>0.0</td>\n",
       "      <td>0.0</td>\n",
       "      <td>0.0</td>\n",
       "      <td>0.0</td>\n",
       "      <td>0.0</td>\n",
       "      <td>0.0</td>\n",
       "      <td>1.0</td>\n",
       "      <td>0.0</td>\n",
       "    </tr>\n",
       "    <tr>\n",
       "      <th>115</th>\n",
       "      <td>0.144628</td>\n",
       "      <td>1.0</td>\n",
       "      <td>1.0</td>\n",
       "      <td>0.823529</td>\n",
       "      <td>0.000000</td>\n",
       "      <td>1.0</td>\n",
       "      <td>0.602740</td>\n",
       "      <td>0.675556</td>\n",
       "      <td>0.542429</td>\n",
       "      <td>0.0</td>\n",
       "      <td>...</td>\n",
       "      <td>0.0</td>\n",
       "      <td>0.0</td>\n",
       "      <td>0.0</td>\n",
       "      <td>0.0</td>\n",
       "      <td>0.0</td>\n",
       "      <td>0.0</td>\n",
       "      <td>0.0</td>\n",
       "      <td>0.0</td>\n",
       "      <td>0.0</td>\n",
       "      <td>1.0</td>\n",
       "    </tr>\n",
       "  </tbody>\n",
       "</table>\n",
       "<p>10 rows × 61 columns</p>\n",
       "</div>"
      ],
      "text/plain": [
       "      account length  international plan  voice mail plan  \\\n",
       "2742        0.595041                 0.0              1.0   \n",
       "281         0.330579                 0.0              0.0   \n",
       "1508        0.380165                 0.0              0.0   \n",
       "2658        0.413223                 0.0              0.0   \n",
       "2112        0.615702                 0.0              0.0   \n",
       "2323        0.123967                 0.0              0.0   \n",
       "2739        0.413223                 0.0              1.0   \n",
       "2636        0.425620                 0.0              0.0   \n",
       "1460        0.326446                 0.0              0.0   \n",
       "115         0.144628                 1.0              1.0   \n",
       "\n",
       "      number vmail messages  customer service calls  churn  total_charges  \\\n",
       "2742               0.607843                0.222222    0.0       0.630137   \n",
       "281                0.000000                0.222222    0.0       0.547945   \n",
       "1508               0.000000                0.333333    0.0       0.534247   \n",
       "2658               0.000000                0.000000    0.0       0.616438   \n",
       "2112               0.000000                0.444444    1.0       0.397260   \n",
       "2323               0.000000                0.111111    0.0       0.465753   \n",
       "2739               0.176471                0.000000    0.0       0.424658   \n",
       "2636               0.000000                0.222222    0.0       0.452055   \n",
       "1460               0.000000                0.333333    0.0       0.479452   \n",
       "115                0.823529                0.000000    1.0       0.602740   \n",
       "\n",
       "      total_calls  total_minutes  state_AL  ...  state_TX  state_UT  state_VA  \\\n",
       "2742     0.604444       0.668885       0.0  ...       0.0       0.0       0.0   \n",
       "281      0.386667       0.547421       0.0  ...       0.0       0.0       0.0   \n",
       "1508     0.426667       0.668885       0.0  ...       0.0       0.0       0.0   \n",
       "2658     0.551111       0.465890       0.0  ...       0.0       0.0       0.0   \n",
       "2112     0.364444       0.391015       0.0  ...       0.0       0.0       0.0   \n",
       "2323     0.293333       0.490849       0.0  ...       0.0       0.0       0.0   \n",
       "2739     0.533333       0.392679       0.0  ...       0.0       0.0       0.0   \n",
       "2636     0.262222       0.462562       0.0  ...       0.0       0.0       0.0   \n",
       "1460     0.600000       0.435940       0.0  ...       0.0       0.0       0.0   \n",
       "115      0.675556       0.542429       0.0  ...       0.0       0.0       0.0   \n",
       "\n",
       "      state_VT  state_WA  state_WI  state_WV  state_WY  area code_415  \\\n",
       "2742       0.0       0.0       0.0       1.0       0.0            0.0   \n",
       "281        0.0       0.0       0.0       0.0       0.0            1.0   \n",
       "1508       0.0       0.0       0.0       0.0       0.0            0.0   \n",
       "2658       0.0       0.0       0.0       0.0       0.0            1.0   \n",
       "2112       0.0       0.0       0.0       0.0       0.0            1.0   \n",
       "2323       0.0       0.0       0.0       0.0       0.0            0.0   \n",
       "2739       0.0       0.0       0.0       0.0       1.0            0.0   \n",
       "2636       0.0       0.0       0.0       0.0       0.0            0.0   \n",
       "1460       0.0       0.0       0.0       0.0       0.0            1.0   \n",
       "115        0.0       0.0       0.0       0.0       0.0            0.0   \n",
       "\n",
       "      area code_510  \n",
       "2742            0.0  \n",
       "281             0.0  \n",
       "1508            0.0  \n",
       "2658            0.0  \n",
       "2112            0.0  \n",
       "2323            1.0  \n",
       "2739            1.0  \n",
       "2636            0.0  \n",
       "1460            0.0  \n",
       "115             1.0  \n",
       "\n",
       "[10 rows x 61 columns]"
      ]
     },
     "execution_count": 18,
     "metadata": {},
     "output_type": "execute_result"
    }
   ],
   "source": [
    "#Scale the transform the data to avoid any interference from outliers\n",
    "scaler = MinMaxScaler()\n",
    "\n",
    "#iterate over the numerical columns in the data_copy set a scale of -1 to 1\n",
    "def scaling(columns):\n",
    "    return scaler.fit_transform(data_copy[columns].values.reshape(-1,1))\n",
    "for i in data_copy.select_dtypes(include=[np.number]).columns:\n",
    "    data_copy[i] = scaling(i)\n",
    "# Display 10 samples\n",
    "data_copy.sample(10)"
   ]
  },
  {
   "cell_type": "markdown",
   "metadata": {},
   "source": [
    "#### 4.1 train test split"
   ]
  },
  {
   "cell_type": "code",
   "execution_count": 19,
   "metadata": {},
   "outputs": [],
   "source": [
    "#Defining X(independent variables) and y(target variable)\n",
    "X = data_copy.drop(\"churn\", axis=1)\n",
    "y = data_copy[\"churn\"]"
   ]
  },
  {
   "cell_type": "code",
   "execution_count": 20,
   "metadata": {},
   "outputs": [],
   "source": [
    "#train test split\n",
    "X_train, X_test, y_train, y_test = train_test_split(X,y, test_size=0.25, random_state=42)"
   ]
  },
  {
   "cell_type": "markdown",
   "metadata": {},
   "source": [
    "#### 4.2 SMOTE/SMOTENC technique"
   ]
  },
  {
   "cell_type": "code",
   "execution_count": 21,
   "metadata": {},
   "outputs": [],
   "source": [
    "#SMOTE to fix the class imbalancemnt found during the decison tree classification\n",
    "\n",
    "#instantiate SMOTENC\n",
    "\n",
    "smote = SMOTENC(categorical_features = [1,2],random_state = 123)\n",
    "resampled_X_train, resampled_y_train = smote.fit_resample(X_train,y_train)"
   ]
  },
  {
   "cell_type": "markdown",
   "metadata": {},
   "source": [
    "#### 4.3 Logistic Regression"
   ]
  },
  {
   "cell_type": "code",
   "execution_count": 22,
   "metadata": {},
   "outputs": [],
   "source": [
    "#logistic regression\n",
    "logreg =LogisticRegression(random_state=42)"
   ]
  },
  {
   "cell_type": "code",
   "execution_count": 23,
   "metadata": {},
   "outputs": [],
   "source": [
    "#fit the model\n",
    "logreg.fit(resampled_X_train, resampled_y_train)\n",
    "#predict on the labels\n",
    "y_pred_log = logreg.predict(X_test)"
   ]
  },
  {
   "cell_type": "code",
   "execution_count": 24,
   "metadata": {},
   "outputs": [
    {
     "data": {
      "image/png": "[encoded data removed]",
      "text/plain": [
       "<Figure size 432x288 with 2 Axes>"
      ]
     },
     "metadata": {
      "needs_background": "light"
     },
     "output_type": "display_data"
    }
   ],
   "source": [
    "def plot_confusion_matrix(y_true, y_pred, classes):\n",
    "    #plots confusion matrix\n",
    "\n",
    "    cm = confusion_matrix(y_true, y_pred)\n",
    "    plt.figure()\n",
    "    sns.heatmap(cm, annot=True, fmt='d', cmap='Blues', xticklabels=classes, yticklabels=classes)\n",
    "    plt.xlabel('Predicted label')\n",
    "    plt.ylabel('True label')\n",
    "    plt.show()\n",
    "\n",
    "plot_confusion_matrix(y_test, y_pred_log, [0,1])"
   ]
  },
  {
   "cell_type": "code",
   "execution_count": 25,
   "metadata": {},
   "outputs": [
    {
     "name": "stdout",
     "output_type": "stream",
     "text": [
      "              precision    recall  f1-score   support\n",
      "\n",
      "         0.0       0.94      0.78      0.85       709\n",
      "         1.0       0.36      0.72      0.48       125\n",
      "\n",
      "    accuracy                           0.77       834\n",
      "   macro avg       0.65      0.75      0.67       834\n",
      "weighted avg       0.85      0.77      0.79       834\n",
      "\n"
     ]
    }
   ],
   "source": [
    "print(classification_report(y_test,y_pred_log))"
   ]
  },
  {
   "cell_type": "markdown",
   "metadata": {},
   "source": [
    "The classification report of the logistic regression model in summary:\n",
    "- The recall score was .78(78%),means it was only able to identify 78% 'No Churn' correctly and .72(72%) for 'Churn instances\n",
    "- Had an ccuracy of 77% which is not enough so hence we try another type of model."
   ]
  },
  {
   "cell_type": "code",
   "execution_count": 26,
   "metadata": {},
   "outputs": [
    {
     "data": {
      "image/png": "[encoded data removed]",
      "text/plain": [
       "<Figure size 720x432 with 1 Axes>"
      ]
     },
     "metadata": {
      "needs_background": "light"
     },
     "output_type": "display_data"
    }
   ],
   "source": [
    "#Feature Importance in the logistics Regression\n",
    "\n",
    "importance_logreg = logreg.coef_[0]\n",
    "Feature_names = resampled_X_train.columns\n",
    "Feature_importances = pd.Series(importance_logreg,index=Feature_names)\n",
    "Feature_importances = Feature_importances.sort_values(ascending=False)\n",
    "plt.figure(figsize=(10,6))\n",
    "top_features = Feature_importances[:10] #selecting the top 10\n",
    "top_features.sort_values().plot(kind='barh')\n",
    "plt.xlabel('Importance')\n",
    "plt.ylabel('Features')\n",
    "plt.title('TOP 10 Feature Importances')\n",
    "plt.xlim(0, max(top_features)*1.1) #setting nthe xlim to the max importance vakue\n",
    "plt.show()\n"
   ]
  },
  {
   "cell_type": "markdown",
   "metadata": {},
   "source": [
    "#### 4.3 Decision Tree Classification"
   ]
  },
  {
   "cell_type": "code",
   "execution_count": 27,
   "metadata": {},
   "outputs": [
    {
     "name": "stdout",
     "output_type": "stream",
     "text": [
      "Accuracy:0.88\n",
      "\n",
      "Classfication Report:\n",
      "              precision    recall  f1-score   support\n",
      "\n",
      "         0.0       0.95      0.91      0.93       709\n",
      "         1.0       0.59      0.75      0.66       125\n",
      "\n",
      "    accuracy                           0.88       834\n",
      "   macro avg       0.77      0.83      0.80       834\n",
      "weighted avg       0.90      0.88      0.89       834\n",
      "\n",
      "\n",
      "Confusion Matrix:\n",
      "[[644  65]\n",
      " [ 31  94]]\n"
     ]
    },
    {
     "data": {
      "image/png": "[encoded data removed]",
      "text/plain": [
       "<Figure size 576x432 with 1 Axes>"
      ]
     },
     "metadata": {
      "needs_background": "light"
     },
     "output_type": "display_data"
    }
   ],
   "source": [
    "#Decision Tree \n",
    "\n",
    "#create the decision tree\n",
    "clf = DecisionTreeClassifier(random_state=42)\n",
    "\n",
    "#Train the classifier on the training data\n",
    "clf.fit(resampled_X_train, resampled_y_train)\n",
    "\n",
    "#Make predicitons on the testing data\n",
    "y_pred = clf.predict(X_test)\n",
    "\n",
    "#Evaluate the model\n",
    "accuracy = accuracy_score(y_test, y_pred)\n",
    "print(f\"Accuracy:{accuracy:.2f}\")\n",
    "\n",
    "#Dsiplay the classification report and confusion matrix\n",
    "print('\\nClassfication Report:')\n",
    "print(classification_report(y_test, y_pred))\n",
    "\n",
    "print(\"\\nConfusion Matrix:\")\n",
    "print(confusion_matrix(y_test, y_pred))\n",
    "\n",
    "# Calculate the confusion matrix\n",
    "cm = confusion_matrix(y_test, y_pred)\n",
    "\n",
    "# Create a DataFrame from the confusion matrix for better visualization\n",
    "conf_matrix_df = pd.DataFrame(cm, index=['No Churn', 'Churn'],columns=['No Churn', 'Churn'])\n",
    "\n",
    "# Plot the heatmap\n",
    "plt.figure(figsize=(8, 6))\n",
    "sns.heatmap(conf_matrix_df, annot=True, fmt=\"d\", cmap=\"Blues\", cbar=False)\n",
    "plt.title('Confusion Matrix')\n",
    "plt.xlabel('Predicted')\n",
    "plt.ylabel('Actual')\n",
    "plt.show()\n"
   ]
  },
  {
   "cell_type": "markdown",
   "metadata": {},
   "source": [
    "Classification report of Decision Tree in summary:\n",
    "- The model performs well in predicting 'No Churn' instances, with high precision and recall.\n",
    "- For 'Churn' predictions, precision is lower, indicating a higher rate of false positives, but recall is still reasonable.\n",
    "- The model has an overall accuracy of 88%, suggesting good overall performance."
   ]
  },
  {
   "cell_type": "code",
   "execution_count": 28,
   "metadata": {},
   "outputs": [
    {
     "data": {
      "image/png": "[encoded data removed]",
      "text/plain": [
       "<Figure size 1080x360 with 1 Axes>"
      ]
     },
     "metadata": {
      "needs_background": "light"
     },
     "output_type": "display_data"
    }
   ],
   "source": [
    "#Feature Importance in the Decision Tree\n",
    "\n",
    "column_names = list(resampled_X_train.columns)\n",
    "importances = clf.feature_importances_[0:10]\n",
    "indices = np.argsort(importances)\n",
    "\n",
    "plt.figure(figsize=(15,5))\n",
    "plt.title('Feature Importances')\n",
    "plt.barh(range(len(indices)),importances[indices], align= 'center')\n",
    "plt.yticks(range(len(indices)), [column_names[i] for i in indices])\n",
    "plt.xlabel('Relative Importance')\n",
    "plt.show()\n"
   ]
  },
  {
   "cell_type": "markdown",
   "metadata": {},
   "source": [
    "#### 4.4 Random Tree Classifier"
   ]
  },
  {
   "cell_type": "code",
   "execution_count": 29,
   "metadata": {},
   "outputs": [
    {
     "data": {
      "text/plain": [
       "RandomForestClassifier(random_state=42)"
      ]
     },
     "execution_count": 29,
     "metadata": {},
     "output_type": "execute_result"
    }
   ],
   "source": [
    "#Random forest classifier\n",
    "#Instantiate the classifier\n",
    "rf = RandomForestClassifier(random_state=42)\n",
    "#Fit on the training data\n",
    "rf.fit(resampled_X_train,resampled_y_train)\n"
   ]
  },
  {
   "cell_type": "code",
   "execution_count": 30,
   "metadata": {},
   "outputs": [],
   "source": [
    "#predict on the test data\n",
    "y_pred_rf = rf.predict(X_test)"
   ]
  },
  {
   "cell_type": "code",
   "execution_count": 31,
   "metadata": {},
   "outputs": [
    {
     "data": {
      "image/png": "[encoded data removed]",
      "text/plain": [
       "<Figure size 432x288 with 2 Axes>"
      ]
     },
     "metadata": {
      "needs_background": "light"
     },
     "output_type": "display_data"
    }
   ],
   "source": [
    "#rf confusion matrix\n",
    "\n",
    "plot_confusion_matrix(y_test, y_pred_rf,[0,1])"
   ]
  },
  {
   "cell_type": "code",
   "execution_count": 32,
   "metadata": {},
   "outputs": [
    {
     "name": "stdout",
     "output_type": "stream",
     "text": [
      "              precision    recall  f1-score   support\n",
      "\n",
      "         0.0       0.95      0.97      0.96       709\n",
      "         1.0       0.83      0.72      0.77       125\n",
      "\n",
      "    accuracy                           0.94       834\n",
      "   macro avg       0.89      0.85      0.87       834\n",
      "weighted avg       0.93      0.94      0.93       834\n",
      "\n"
     ]
    }
   ],
   "source": [
    "print(classification_report(y_test, y_pred_rf))"
   ]
  },
  {
   "cell_type": "markdown",
   "metadata": {},
   "source": [
    "Classification report of Random Tree Classsifier in summary:\n",
    "- The model performs well, with high precision for both classes.\n",
    "- 'No Churn' instances are well-identified with high recall (97%), and precision is also high (95%).\n",
    "- For 'Churn' predictions, recall is 72%, indicating that the model identified 72% of the actual 'Churn' instances. Precision for - - -  'Churn' is also high at 83%.\n",
    "- The overall accuracy is 94%, suggesting good overall performance."
   ]
  },
  {
   "cell_type": "code",
   "execution_count": 33,
   "metadata": {},
   "outputs": [
    {
     "data": {
      "image/png": "[encoded data removed]",
      "text/plain": [
       "<Figure size 1080x360 with 1 Axes>"
      ]
     },
     "metadata": {
      "needs_background": "light"
     },
     "output_type": "display_data"
    }
   ],
   "source": [
    "column_names = list(resampled_X_train.columns)\n",
    "importances = rf.feature_importances_[0:10]\n",
    "indices = np.argsort(importances)\n",
    "\n",
    "plt.figure(figsize=(15,5))\n",
    "plt.title('Feature Importances')\n",
    "plt.barh(range(len(indices)),importances[indices], align= 'center')\n",
    "plt.yticks(range(len(indices)), [column_names[i] for i in indices])\n",
    "plt.xlabel('Relative Importance')\n",
    "plt.show()\n"
   ]
  },
  {
   "cell_type": "markdown",
   "metadata": {},
   "source": [
    "# 5. EVALUATION"
   ]
  },
  {
   "cell_type": "markdown",
   "metadata": {},
   "source": [
    "In this section I will be able to evaluate models on the recall score and ROC_AUC, which in turn I;ll be able to know which model was the best and later tuning it for better perfomance."
   ]
  },
  {
   "cell_type": "markdown",
   "metadata": {},
   "source": [
    "##### 5.1 Recall Score\n",
    "This is a measure of how many positive instances the model correctly indetifies. The higher the recall score the  better the model."
   ]
  },
  {
   "cell_type": "code",
   "execution_count": 34,
   "metadata": {},
   "outputs": [
    {
     "data": {
      "text/html": [
       "<div>\n",
       "<style scoped>\n",
       "    .dataframe tbody tr th:only-of-type {\n",
       "        vertical-align: middle;\n",
       "    }\n",
       "\n",
       "    .dataframe tbody tr th {\n",
       "        vertical-align: top;\n",
       "    }\n",
       "\n",
       "    .dataframe thead th {\n",
       "        text-align: right;\n",
       "    }\n",
       "</style>\n",
       "<table border=\"1\" class=\"dataframe\">\n",
       "  <thead>\n",
       "    <tr style=\"text-align: right;\">\n",
       "      <th></th>\n",
       "      <th>recall</th>\n",
       "    </tr>\n",
       "    <tr>\n",
       "      <th>classifiers</th>\n",
       "      <th></th>\n",
       "    </tr>\n",
       "  </thead>\n",
       "  <tbody>\n",
       "    <tr>\n",
       "      <th>LogisticRegression</th>\n",
       "      <td>0.720</td>\n",
       "    </tr>\n",
       "    <tr>\n",
       "      <th>DecisionTreeClassifier</th>\n",
       "      <td>0.752</td>\n",
       "    </tr>\n",
       "    <tr>\n",
       "      <th>RandomForestClassifier</th>\n",
       "      <td>0.720</td>\n",
       "    </tr>\n",
       "  </tbody>\n",
       "</table>\n",
       "</div>"
      ],
      "text/plain": [
       "                        recall\n",
       "classifiers                   \n",
       "LogisticRegression       0.720\n",
       "DecisionTreeClassifier   0.752\n",
       "RandomForestClassifier   0.720"
      ]
     },
     "execution_count": 34,
     "metadata": {},
     "output_type": "execute_result"
    }
   ],
   "source": [
    "np.random.seed(42)\n",
    "\n",
    "classifiers = [LogisticRegression(),\n",
    "               DecisionTreeClassifier(),\n",
    "               RandomForestClassifier()]\n",
    "\n",
    "# Define a result table as a DataFrame\n",
    "result_table = pd.DataFrame(columns=['classifiers', 'recall'])\n",
    "\n",
    "# Train the models and record the results\n",
    "for cls in classifiers:\n",
    "    model = cls.fit(resampled_X_train, resampled_y_train)\n",
    "    y_pred = model.predict(X_test)\n",
    "    \n",
    "    recall = recall_score(y_test, y_pred)\n",
    "    \n",
    "    result_table = result_table.append({'classifiers': cls.__class__.__name__,\n",
    "                                        'recall': recall}, ignore_index=True)\n",
    "\n",
    "# Set name of the classifiers as index labels\n",
    "result_table.set_index('classifiers', inplace=True)\n",
    "\n",
    "result_table"
   ]
  },
  {
   "cell_type": "code",
   "execution_count": 35,
   "metadata": {},
   "outputs": [
    {
     "data": {
      "image/png": "[encoded data removed]",
      "text/plain": [
       "<Figure size 576x432 with 1 Axes>"
      ]
     },
     "metadata": {
      "needs_background": "light"
     },
     "output_type": "display_data"
    }
   ],
   "source": [
    "np.random.seed(42)\n",
    "classifiers = [LogisticRegression(),\n",
    "               DecisionTreeClassifier(),\n",
    "               RandomForestClassifier()]\n",
    "\n",
    "# Define a result table as a DataFrame\n",
    "result_table = pd.DataFrame(columns=['classifiers', 'fpr','tpr','auc'])\n",
    "\n",
    "# Train the models and record the results\n",
    "for cls in classifiers:\n",
    "    model = cls.fit(resampled_X_train, resampled_y_train)\n",
    "    yproba = model.predict_proba(X_test)[::,1]\n",
    "    \n",
    "    fpr, tpr, _ = roc_curve(y_test,  yproba)\n",
    "    auc = roc_auc_score(y_test, yproba)\n",
    "    \n",
    "    result_table = result_table.append({'classifiers':cls.__class__.__name__,\n",
    "                                        'fpr':fpr, \n",
    "                                        'tpr':tpr, \n",
    "                                        'auc':auc}, ignore_index=True)\n",
    "\n",
    "# Set name of the classifiers as index labels\n",
    "result_table.set_index('classifiers', inplace=True)\n",
    "\n",
    "fig = plt.figure(figsize=(8,6))\n",
    "\n",
    "for i in result_table.index:\n",
    "    plt.plot(result_table.loc[i]['fpr'], \n",
    "             result_table.loc[i]['tpr'], \n",
    "             label=\"{}, AUC={:.3f}\".format(i, result_table.loc[i]['auc']))\n",
    "    \n",
    "plt.plot([0,1], [0,1], color='orange', linestyle='--')\n",
    "\n",
    "plt.xticks(np.arange(0.0, 1.1, step=0.1))\n",
    "plt.xlabel(\"False Positive Rate\", fontsize=15)\n",
    "\n",
    "plt.yticks(np.arange(0.0, 1.1, step=0.1))\n",
    "plt.ylabel(\"True Positive Rate\", fontsize=15)\n",
    "\n",
    "plt.title('ROC Curve Analysis', fontsize=15)\n",
    "plt.legend(prop={'size':13}, loc='lower right')\n",
    "\n",
    "plt.show()"
   ]
  },
  {
   "cell_type": "markdown",
   "metadata": {},
   "source": [
    " - The ROC curve shows that the RandomForestClassifier has the best performance among our three models with a score of 0.921 and LogisticRgression with the lowest performance with a score of 0.812.\n",
    "\n",
    "  - The ROC curve essential show us the trade-off between the (TPR) true positive rate and (FPR) false positive rate for our binary classifiers.\n",
    "\n",
    "  -  TPR = those positive instances correctly classified as such\n",
    "  - FPR = those negatives instances incorrectly classifies as positives"
   ]
  },
  {
   "cell_type": "markdown",
   "metadata": {},
   "source": [
    "#### 5.2 Model Tuning"
   ]
  },
  {
   "cell_type": "markdown",
   "metadata": {},
   "source": [
    "As seen from out evaluation section the RandomForestClassification hadd the best performance among the three.To improve the perfomance of the model we have to carry out model tuning by use of GridSearch."
   ]
  },
  {
   "cell_type": "code",
   "execution_count": 36,
   "metadata": {},
   "outputs": [
    {
     "name": "stdout",
     "output_type": "stream",
     "text": [
      "Best Parameters: {'criterion': 'entropy', 'max_depth': 35, 'min_samples_leaf': 2, 'min_samples_split': 15, 'n_estimators': 100}\n",
      "\n",
      "Classification Report:\n",
      "              precision    recall  f1-score   support\n",
      "\n",
      "         0.0       0.96      0.97      0.96       709\n",
      "         1.0       0.81      0.74      0.78       125\n",
      "\n",
      "    accuracy                           0.94       834\n",
      "   macro avg       0.88      0.86      0.87       834\n",
      "weighted avg       0.93      0.94      0.93       834\n",
      "\n"
     ]
    }
   ],
   "source": [
    "#Tuning RandomForestClassification\n",
    "\n",
    "#Define the grid\n",
    "param_grid = {\n",
    "    \"n_estimators\": [50, 100],\n",
    "    \"max_depth\": [15, 20, 35],\n",
    "    \"min_samples_split\":[5, 10, 15],\n",
    "    \"min_samples_leaf\":[2, 4, 10],\n",
    "    \"criterion\":['entropy','gini']\n",
    "}\n",
    "\n",
    "#Create a RandomForestClassifier instance\n",
    "rf_classifier = RandomForestClassifier(random_state=42)\n",
    "grid_search = GridSearchCV(estimator=rf_classifier, param_grid=param_grid, scoring=\"recall\", cv=5, n_jobs=-1)\n",
    "grid_search.fit(resampled_X_train, resampled_y_train)\n",
    "best_params = grid_search.best_params_\n",
    "best_rf_classifier = grid_search.best_estimator_\n",
    "#Evaluate\n",
    "y_pred_grid = best_rf_classifier.predict(X_test)\n",
    "#Display the best parameters\n",
    "print(\"Best Parameters:\", best_params)\n",
    "\n",
    "#Display the classification report\n",
    "print(\"\\nClassification Report:\")\n",
    "print(classification_report(y_test, y_pred_grid))\n"
   ]
  },
  {
   "cell_type": "markdown",
   "metadata": {},
   "source": [
    "classification_report of RandomForestClassifier after tuning:\n",
    "- The model performs well, with high precision for both classes.\n",
    "- 'No Churn' instances are well-identified with high recall (97%), and precision is also high (95%).\n",
    "- For 'Churn' predictions, recall is 72%, indicating that the model identified 72% of the actual 'Churn' instances. This as close as to the 0.8 recall score we needed to make our model effective.\n",
    "- The model iwth a recall score can be called Pretty Good model.\n",
    "- Precision for 'Churn' is also high at 83%.\n",
    "- The overall accuracy is 94%, suggesting good overall performance."
   ]
  },
  {
   "cell_type": "code",
   "execution_count": 37,
   "metadata": {},
   "outputs": [
    {
     "data": {
      "image/png": "[encoded data removed]",
      "text/plain": [
       "<Figure size 432x288 with 2 Axes>"
      ]
     },
     "metadata": {
      "needs_background": "light"
     },
     "output_type": "display_data"
    }
   ],
   "source": [
    "#Confusion matrix\n",
    "plot_confusion_matrix(y_test, y_pred_grid,[0,1])"
   ]
  },
  {
   "cell_type": "code",
   "execution_count": 38,
   "metadata": {},
   "outputs": [
    {
     "data": {
      "image/png": "[encoded data removed]",
      "text/plain": [
       "<Figure size 432x288 with 1 Axes>"
      ]
     },
     "metadata": {
      "needs_background": "light"
     },
     "output_type": "display_data"
    }
   ],
   "source": [
    "# Get the predicted probabilities for the positive class\n",
    "y_prob_grid = best_rf_classifier.predict_proba(X_test)[:, 1]\n",
    "\n",
    "# Compute the false positive rate, true positive rate, and thresholds\n",
    "fpr, tpr, thresholds = roc_curve(y_test, y_prob_grid)\n",
    "\n",
    "# Compute the AUC score\n",
    "auc_score = roc_auc_score(y_test, y_prob_grid)\n",
    "\n",
    "# Plot the ROC curve\n",
    "plt.plot(fpr, tpr, label='ROC Curve (AUC = {:.2f})'.format(auc_score))\n",
    "plt.plot([0, 1], [0, 1], 'k--')  # Diagonal line for random classifier\n",
    "plt.xlabel('False Positive Rate')\n",
    "plt.ylabel('True Positive Rate')\n",
    "plt.title('Receiver Operating Characteristic (ROC) Curve')\n",
    "plt.legend()\n",
    "plt.show()"
   ]
  },
  {
   "cell_type": "markdown",
   "metadata": {},
   "source": [
    "For 'Churn' predictions, recall is 74% indicating that the model identified 74% of the actual 'Churn' instances. This as close as to the 0.8 recall score we needed to make our model effective.\n",
    "- The model with this recall score can be called Pretty Good model."
   ]
  },
  {
   "cell_type": "code",
   "execution_count": 50,
   "metadata": {},
   "outputs": [
    {
     "name": "stdout",
     "output_type": "stream",
     "text": [
      "                   Feature  Importance\n",
      "4   customer service calls    0.218844\n",
      "5            total_charges    0.204155\n",
      "7            total_minutes    0.095880\n",
      "3    number vmail messages    0.082754\n",
      "2          voice mail plan    0.074110\n",
      "0           account length    0.047124\n",
      "6              total_calls    0.045037\n",
      "1       international plan    0.029042\n",
      "59           area code_510    0.026658\n",
      "58           area code_415    0.021068\n"
     ]
    },
    {
     "data": {
      "image/png": "[encoded data removed]",
      "text/plain": [
       "<Figure size 720x432 with 1 Axes>"
      ]
     },
     "metadata": {
      "needs_background": "light"
     },
     "output_type": "display_data"
    }
   ],
   "source": [
    "# Assuming you have a tuned RandomForestClassifier stored in `tuned_rf_classifier`\n",
    "\n",
    "# Get feature importances\n",
    "feature_importances = best_rf_classifier.feature_importances_\n",
    "\n",
    "# Create a DataFrame with feature names and their importances\n",
    "feature_importance_df = pd.DataFrame({'Feature': X_train.columns, 'Importance': feature_importances})\n",
    "\n",
    "# Sort the DataFrame by importance in descending order\n",
    "top_features = feature_importance_df.sort_values(by='Importance', ascending=False).head(10)\n",
    "\n",
    "# Print or visualize the top 10 features\n",
    "print(top_features)\n",
    "\n",
    "import matplotlib.pyplot as plt\n",
    "import seaborn as sns\n",
    "\n",
    "# Set figure size\n",
    "plt.figure(figsize=(10, 6))\n",
    "\n",
    "# Create a bar plot of the top 10 features\n",
    "sns.barplot(x='Importance', y='Feature', data=top_features, palette='viridis')\n",
    "\n",
    "# Add titles and labels\n",
    "plt.title('Top 10 Features Importance')\n",
    "plt.xlabel('Importance')\n",
    "plt.ylabel('Feature')\n",
    "\n",
    "# Show the plot\n",
    "plt.show()\n"
   ]
  },
  {
   "cell_type": "markdown",
   "metadata": {},
   "source": [
    "# 6. CONCLUSION"
   ]
  },
  {
   "cell_type": "markdown",
   "metadata": {},
   "source": [
    "- As our recall score for our model was .74 as good as it is a predictive model, more time is neede for further engineering to help improve this score.\n"
   ]
  },
  {
   "cell_type": "markdown",
   "metadata": {},
   "source": [
    "#### 6.1 Reccomendations"
   ]
  },
  {
   "cell_type": "markdown",
   "metadata": {},
   "source": [
    "For SyriaTel to improve on customer retention they need to deploy the machine learning model to get realtime predicitions.\n",
    "Realtime continuous monitoring ensure the model is always learning and improving with time. With use of feature importance on can leverage it to provide insight on how to target service improvements and personalize retention efforts.\n",
    "\n",
    "A few ways into which SyriaTel can reduce Churning rate is by:\n",
    "- Focusing on retention programss in area code 415 and 510 as these have the highest churning rate.\n",
    "- Improve on quality customer service call:\n",
    "- By having responsive customer support.Provide quick and effective customer support. Resolve issues promptly and ensure that customers feel heard and valued.\n",
    "- Encourage and act upon customer feedback. Use surveys, reviews, and feedback forms to understand customer satisfaction and areas for improvement.\n",
    "- Competitive Pricing on plans : Regularly review and adjust pricing strategies on different plans to remain competitive in the market. Consider offering flexible pricing plans that cater to different customer needs."
   ]
  },
  {
   "cell_type": "markdown",
   "metadata": {},
   "source": []
  }
 ],
 "metadata": {
  "kernelspec": {
   "display_name": "Python 3",
   "language": "python",
   "name": "python3"
  },
  "language_info": {
   "codemirror_mode": {
    "name": "ipython",
    "version": 3
   },
   "file_extension": ".py",
   "mimetype": "text/x-python",
   "name": "python",
   "nbconvert_exporter": "python",
   "pygments_lexer": "ipython3",
   "version": "3.8.5"
  }
 },
 "nbformat": 4,
 "nbformat_minor": 2
}
